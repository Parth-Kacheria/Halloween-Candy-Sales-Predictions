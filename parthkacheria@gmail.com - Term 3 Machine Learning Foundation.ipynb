{
 "cells": [
  {
   "cell_type": "markdown",
   "metadata": {
    "toc": true
   },
   "source": [
    "<h1>Table of Contents<span class=\"tocSkip\"></span></h1>\n",
    "<div class=\"toc\"><ul class=\"toc-item\"><li><span><a href=\"#Machine-Learning-on-Halloween-Candy-Win-Percent\" data-toc-modified-id=\"Machine-Learning-on-Halloween-Candy-Win-Percent-1\"><span class=\"toc-item-num\">1&nbsp;&nbsp;</span><center>Machine Learning on Halloween Candy Win Percent</center></a></span></li><li><span><a href=\"#-\n",
    "\n",
    "----\n",
    "\" data-toc-modified-id=\"-\n",
    "\n",
    "----\n",
    "-2\"><span class=\"toc-item-num\">2&nbsp;&nbsp;</span> \n",
    "\n",
    "<p><br>    </p>\n",
    "<center><img src=\"https://ca-times.brightspotcdn.com/dims4/default/cf4c158/2147483647/strip/true/crop/6720x4480+0+0/resize/840x560!/quality/90/?url=https%3A%2F%2Fcalifornia-times-brightspot.s3.amazonaws.com%2F9c%2Ff6%2F6b58983a47f3806f87ece91fdd2b%2F631678-fo-state-of-candy-07-1-mjc.jpg\" width=\"500\"></center></a></span><ul class=\"toc-item\"><li><ul class=\"toc-item\"><li><span><a href=\"#Problem-Statement:\" data-toc-modified-id=\"Problem-Statement:-2.0.1\"><span class=\"toc-item-num\">2.0.1&nbsp;&nbsp;</span>Problem Statement:</a></span></li><li><span><a href=\"#Importing-Libraries\" data-toc-modified-id=\"Importing-Libraries-2.0.2\"><span class=\"toc-item-num\">2.0.2&nbsp;&nbsp;</span>Importing Libraries</a></span></li><li><span><a href=\"#Data-Acquisition-and-Description\" data-toc-modified-id=\"Data-Acquisition-and-Description-2.0.3\"><span class=\"toc-item-num\">2.0.3&nbsp;&nbsp;</span>Data Acquisition and Description</a></span></li><li><span><a href=\"#Exploratory-Data-Analysis\" data-toc-modified-id=\"Exploratory-Data-Analysis-2.0.4\"><span class=\"toc-item-num\">2.0.4&nbsp;&nbsp;</span>Exploratory Data Analysis</a></span></li><li><span><a href=\"#Pandas-Profiling\" data-toc-modified-id=\"Pandas-Profiling-2.0.5\"><span class=\"toc-item-num\">2.0.5&nbsp;&nbsp;</span>Pandas Profiling</a></span><ul class=\"toc-item\"><li><span><a href=\"#Observations-from-the-profile-report\" data-toc-modified-id=\"Observations-from-the-profile-report-2.0.5.1\"><span class=\"toc-item-num\">2.0.5.1&nbsp;&nbsp;</span>Observations from the profile report</a></span></li><li><span><a href=\"#Observations-from-the-correlation-heatmap\" data-toc-modified-id=\"Observations-from-the-correlation-heatmap-2.0.5.2\"><span class=\"toc-item-num\">2.0.5.2&nbsp;&nbsp;</span>Observations from the correlation heatmap</a></span></li></ul></li><li><span><a href=\"#Linear-Regression-Assumptions\" data-toc-modified-id=\"Linear-Regression-Assumptions-2.0.6\"><span class=\"toc-item-num\">2.0.6&nbsp;&nbsp;</span>Linear Regression Assumptions</a></span><ul class=\"toc-item\"><li><span><a href=\"#1.-Distribution-of-dependent-variable\" data-toc-modified-id=\"1.-Distribution-of-dependent-variable-2.0.6.1\"><span class=\"toc-item-num\">2.0.6.1&nbsp;&nbsp;</span>1. Distribution of dependent variable</a></span></li><li><span><a href=\"#2.-Correlation-of-Independent-Variables\" data-toc-modified-id=\"2.-Correlation-of-Independent-Variables-2.0.6.2\"><span class=\"toc-item-num\">2.0.6.2&nbsp;&nbsp;</span>2. Correlation of Independent Variables</a></span></li><li><span><a href=\"#3.-Linear-relationship-between-dependent-variable-and-the-independent-variables\" data-toc-modified-id=\"3.-Linear-relationship-between-dependent-variable-and-the-independent-variables-2.0.6.3\"><span class=\"toc-item-num\">2.0.6.3&nbsp;&nbsp;</span>3. Linear relationship between dependent variable and the independent variables</a></span></li><li><span><a href=\"#4.-Homoscedasticity\" data-toc-modified-id=\"4.-Homoscedasticity-2.0.6.4\"><span class=\"toc-item-num\">2.0.6.4&nbsp;&nbsp;</span>4. Homoscedasticity</a></span></li></ul></li><li><span><a href=\"#Splitting-the-data-into-Training-Data-and-Testing-Data\" data-toc-modified-id=\"Splitting-the-data-into-Training-Data-and-Testing-Data-2.0.7\"><span class=\"toc-item-num\">2.0.7&nbsp;&nbsp;</span>Splitting the data into Training Data and Testing Data</a></span><ul class=\"toc-item\"><li><span><a href=\"#Splitting-the-Data\" data-toc-modified-id=\"Splitting-the-Data-2.0.7.1\"><span class=\"toc-item-num\">2.0.7.1&nbsp;&nbsp;</span>Splitting the Data</a></span></li><li><span><a href=\"#Scaling-the-Data\" data-toc-modified-id=\"Scaling-the-Data-2.0.7.2\"><span class=\"toc-item-num\">2.0.7.2&nbsp;&nbsp;</span>Scaling the Data</a></span></li></ul></li></ul></li><li><span><a href=\"#Performing-Linear-Regression\" data-toc-modified-id=\"Performing-Linear-Regression-2.1\"><span class=\"toc-item-num\">2.1&nbsp;&nbsp;</span>Performing Linear Regression</a></span><ul class=\"toc-item\"><li><ul class=\"toc-item\"><li><span><a href=\"#Model-1\" data-toc-modified-id=\"Model-1-2.1.0.1\"><span class=\"toc-item-num\">2.1.0.1&nbsp;&nbsp;</span>Model 1</a></span></li><li><span><a href=\"#RMSE\" data-toc-modified-id=\"RMSE-2.1.0.2\"><span class=\"toc-item-num\">2.1.0.2&nbsp;&nbsp;</span>RMSE</a></span></li><li><span><a href=\"#R-Square\" data-toc-modified-id=\"R-Square-2.1.0.3\"><span class=\"toc-item-num\">2.1.0.3&nbsp;&nbsp;</span>R Square</a></span></li><li><span><a href=\"#Adjusted-R-Square\" data-toc-modified-id=\"Adjusted-R-Square-2.1.0.4\"><span class=\"toc-item-num\">2.1.0.4&nbsp;&nbsp;</span>Adjusted R Square</a></span></li></ul></li></ul></li><li><span><a href=\"#Decision-Tree\" data-toc-modified-id=\"Decision-Tree-2.2\"><span class=\"toc-item-num\">2.2&nbsp;&nbsp;</span>Decision Tree</a></span><ul class=\"toc-item\"><li><span><a href=\"#Decision-Tree-Model-1\" data-toc-modified-id=\"Decision-Tree-Model-1-2.2.1\"><span class=\"toc-item-num\">2.2.1&nbsp;&nbsp;</span>Decision Tree Model 1</a></span><ul class=\"toc-item\"><li><span><a href=\"#RMSE\" data-toc-modified-id=\"RMSE-2.2.1.1\"><span class=\"toc-item-num\">2.2.1.1&nbsp;&nbsp;</span>RMSE</a></span></li><li><span><a href=\"#R-Square\" data-toc-modified-id=\"R-Square-2.2.1.2\"><span class=\"toc-item-num\">2.2.1.2&nbsp;&nbsp;</span>R Square</a></span></li><li><span><a href=\"#Adjusted-R-Sqaure\" data-toc-modified-id=\"Adjusted-R-Sqaure-2.2.1.3\"><span class=\"toc-item-num\">2.2.1.3&nbsp;&nbsp;</span>Adjusted R Sqaure</a></span></li></ul></li><li><span><a href=\"#Decision-Tree-Model-2\" data-toc-modified-id=\"Decision-Tree-Model-2-2.2.2\"><span class=\"toc-item-num\">2.2.2&nbsp;&nbsp;</span>Decision Tree Model 2</a></span><ul class=\"toc-item\"><li><span><a href=\"#RMSE\" data-toc-modified-id=\"RMSE-2.2.2.1\"><span class=\"toc-item-num\">2.2.2.1&nbsp;&nbsp;</span>RMSE</a></span></li><li><span><a href=\"#R-Square\" data-toc-modified-id=\"R-Square-2.2.2.2\"><span class=\"toc-item-num\">2.2.2.2&nbsp;&nbsp;</span>R Square</a></span></li><li><span><a href=\"#Adjusted-R-Square\" data-toc-modified-id=\"Adjusted-R-Square-2.2.2.3\"><span class=\"toc-item-num\">2.2.2.3&nbsp;&nbsp;</span>Adjusted R Square</a></span></li><li><span><a href=\"#GridSearchCV\" data-toc-modified-id=\"GridSearchCV-2.2.2.4\"><span class=\"toc-item-num\">2.2.2.4&nbsp;&nbsp;</span>GridSearchCV</a></span></li><li><span><a href=\"#RMSE\" data-toc-modified-id=\"RMSE-2.2.2.5\"><span class=\"toc-item-num\">2.2.2.5&nbsp;&nbsp;</span>RMSE</a></span></li><li><span><a href=\"#R-squared\" data-toc-modified-id=\"R-squared-2.2.2.6\"><span class=\"toc-item-num\">2.2.2.6&nbsp;&nbsp;</span>R-squared</a></span></li></ul></li><li><span><a href=\"#Adjusted-R-Square\" data-toc-modified-id=\"Adjusted-R-Square-2.2.3\"><span class=\"toc-item-num\">2.2.3&nbsp;&nbsp;</span>Adjusted R Square</a></span><ul class=\"toc-item\"><li><span><a href=\"#Summary-of-Decision-Tree\" data-toc-modified-id=\"Summary-of-Decision-Tree-2.2.3.1\"><span class=\"toc-item-num\">2.2.3.1&nbsp;&nbsp;</span>Summary of Decision Tree</a></span></li></ul></li></ul></li><li><span><a href=\"#Random-Forest-Regressor\" data-toc-modified-id=\"Random-Forest-Regressor-2.3\"><span class=\"toc-item-num\">2.3&nbsp;&nbsp;</span>Random Forest Regressor</a></span><ul class=\"toc-item\"><li><ul class=\"toc-item\"><li><span><a href=\"#Random-Forest-Model-1\" data-toc-modified-id=\"Random-Forest-Model-1-2.3.0.1\"><span class=\"toc-item-num\">2.3.0.1&nbsp;&nbsp;</span>Random Forest Model 1</a></span></li><li><span><a href=\"#RMSE\" data-toc-modified-id=\"RMSE-2.3.0.2\"><span class=\"toc-item-num\">2.3.0.2&nbsp;&nbsp;</span>RMSE</a></span></li><li><span><a href=\"#R-Squared\" data-toc-modified-id=\"R-Squared-2.3.0.3\"><span class=\"toc-item-num\">2.3.0.3&nbsp;&nbsp;</span>R Squared</a></span></li><li><span><a href=\"#Adjusted-R-squared\" data-toc-modified-id=\"Adjusted-R-squared-2.3.0.4\"><span class=\"toc-item-num\">2.3.0.4&nbsp;&nbsp;</span>Adjusted R-squared</a></span></li><li><span><a href=\"#Random-Forest-Model-2\" data-toc-modified-id=\"Random-Forest-Model-2-2.3.0.5\"><span class=\"toc-item-num\">2.3.0.5&nbsp;&nbsp;</span>Random Forest Model 2</a></span></li><li><span><a href=\"#RMSE\" data-toc-modified-id=\"RMSE-2.3.0.6\"><span class=\"toc-item-num\">2.3.0.6&nbsp;&nbsp;</span>RMSE</a></span></li><li><span><a href=\"#R-Squared\" data-toc-modified-id=\"R-Squared-2.3.0.7\"><span class=\"toc-item-num\">2.3.0.7&nbsp;&nbsp;</span>R Squared</a></span></li><li><span><a href=\"#Adjusted-R-Square\" data-toc-modified-id=\"Adjusted-R-Square-2.3.0.8\"><span class=\"toc-item-num\">2.3.0.8&nbsp;&nbsp;</span>Adjusted R Square</a></span></li><li><span><a href=\"#RandomizedSearchCV\" data-toc-modified-id=\"RandomizedSearchCV-2.3.0.9\"><span class=\"toc-item-num\">2.3.0.9&nbsp;&nbsp;</span>RandomizedSearchCV</a></span></li><li><span><a href=\"#RMSE\" data-toc-modified-id=\"RMSE-2.3.0.10\"><span class=\"toc-item-num\">2.3.0.10&nbsp;&nbsp;</span>RMSE</a></span></li><li><span><a href=\"#R-Square\" data-toc-modified-id=\"R-Square-2.3.0.11\"><span class=\"toc-item-num\">2.3.0.11&nbsp;&nbsp;</span>R Square</a></span></li><li><span><a href=\"#Adjusted-R-squared\" data-toc-modified-id=\"Adjusted-R-squared-2.3.0.12\"><span class=\"toc-item-num\">2.3.0.12&nbsp;&nbsp;</span>Adjusted R-squared</a></span></li><li><span><a href=\"#Summary-of-Random-Forest\" data-toc-modified-id=\"Summary-of-Random-Forest-2.3.0.13\"><span class=\"toc-item-num\">2.3.0.13&nbsp;&nbsp;</span>Summary of Random Forest</a></span></li></ul></li></ul></li><li><span><a href=\"#Conclusion\" data-toc-modified-id=\"Conclusion-2.4\"><span class=\"toc-item-num\">2.4&nbsp;&nbsp;</span>Conclusion</a></span></li></ul></li></ul></div>"
   ]
  },
  {
   "cell_type": "markdown",
   "metadata": {},
   "source": [
    "<center><img src=\"https://github.com/insaid2018/Term-1/blob/master/Images/INSAID_Full%20Logo.png?raw=true\" width=\"240\" height=\"120\" /></centre>"
   ]
  },
  {
   "cell_type": "markdown",
   "metadata": {},
   "source": [
    "<h1><center>Machine Learning on Halloween Candy Win Percent</center><h1> \n",
    "\n",
    "<br>    \n",
    "<center><img src=\"https://ca-times.brightspotcdn.com/dims4/default/cf4c158/2147483647/strip/true/crop/6720x4480+0+0/resize/840x560!/quality/90/?url=https%3A%2F%2Fcalifornia-times-brightspot.s3.amazonaws.com%2F9c%2Ff6%2F6b58983a47f3806f87ece91fdd2b%2F631678-fo-state-of-candy-07-1-mjc.jpg\" width=\"500\"/></center></h1>"
   ]
  },
  {
   "cell_type": "markdown",
   "metadata": {},
   "source": [
    "### Problem Statement: \n",
    "\n",
    "• TomTub company sells a large variety of candies worldwide.\n",
    "\n",
    "• They want to supply the highest quality of candies which most people will prefer to receive on Halloween.\n",
    "\n",
    "• To find the most popular candy, they need to analyze different characteristics of the candy as per the data collected through the survey.\n",
    "\n",
    "• It is very tough to know the candies preferred by people to receive on Halloween.\n",
    "\n",
    "• Currently, they estimate the popularity of candies based on their previous sales but this does not give the ideal results.\n",
    "\n",
    "• Our task is to predict the win percent of different candies to find out which candies should be sold during halloween."
   ]
  },
  {
   "cell_type": "markdown",
   "metadata": {},
   "source": [
    "### Importing Libraries\n"
   ]
  },
  {
   "cell_type": "code",
   "execution_count": 3,
   "metadata": {},
   "outputs": [
    {
     "name": "stdout",
     "output_type": "stream",
     "text": [
      "Requirement already up-to-date: pandas-profiling in c:\\users\\admin\\anaconda3\\lib\\site-packages (2.10.0)\n",
      "Requirement already satisfied, skipping upgrade: tqdm>=4.48.2 in c:\\users\\admin\\anaconda3\\lib\\site-packages (from pandas-profiling) (4.56.0)\n",
      "Requirement already satisfied, skipping upgrade: jinja2>=2.11.1 in c:\\users\\admin\\anaconda3\\lib\\site-packages (from pandas-profiling) (2.11.2)\n",
      "Requirement already satisfied, skipping upgrade: missingno>=0.4.2 in c:\\users\\admin\\anaconda3\\lib\\site-packages (from pandas-profiling) (0.4.2)\n",
      "Requirement already satisfied, skipping upgrade: visions[type_image_path]==0.6.0 in c:\\users\\admin\\anaconda3\\lib\\site-packages (from pandas-profiling) (0.6.0)\n",
      "Requirement already satisfied, skipping upgrade: tangled-up-in-unicode>=0.0.6 in c:\\users\\admin\\anaconda3\\lib\\site-packages (from pandas-profiling) (0.0.6)\n",
      "Requirement already satisfied, skipping upgrade: numpy>=1.16.0 in c:\\users\\admin\\anaconda3\\lib\\site-packages (from pandas-profiling) (1.18.5)\n",
      "Requirement already satisfied, skipping upgrade: ipywidgets>=7.5.1 in c:\\users\\admin\\anaconda3\\lib\\site-packages (from pandas-profiling) (7.5.1)\n",
      "Requirement already satisfied, skipping upgrade: matplotlib>=3.2.0 in c:\\users\\admin\\anaconda3\\lib\\site-packages (from pandas-profiling) (3.2.2)\n",
      "Requirement already satisfied, skipping upgrade: pandas!=1.0.0,!=1.0.1,!=1.0.2,!=1.1.0,>=0.25.3 in c:\\users\\admin\\anaconda3\\lib\\site-packages (from pandas-profiling) (1.0.5)\n",
      "Requirement already satisfied, skipping upgrade: requests>=2.24.0 in c:\\users\\admin\\anaconda3\\lib\\site-packages (from pandas-profiling) (2.24.0)\n",
      "Requirement already satisfied, skipping upgrade: confuse>=1.0.0 in c:\\users\\admin\\anaconda3\\lib\\site-packages (from pandas-profiling) (1.4.0)\n",
      "Requirement already satisfied, skipping upgrade: phik>=0.10.0 in c:\\users\\admin\\anaconda3\\lib\\site-packages (from pandas-profiling) (0.10.0)\n",
      "Requirement already satisfied, skipping upgrade: joblib in c:\\users\\admin\\anaconda3\\lib\\site-packages (from pandas-profiling) (0.16.0)\n",
      "Requirement already satisfied, skipping upgrade: htmlmin>=0.1.12 in c:\\users\\admin\\anaconda3\\lib\\site-packages (from pandas-profiling) (0.1.12)\n",
      "Requirement already satisfied, skipping upgrade: attrs>=19.3.0 in c:\\users\\admin\\anaconda3\\lib\\site-packages (from pandas-profiling) (19.3.0)\n",
      "Requirement already satisfied, skipping upgrade: seaborn>=0.10.1 in c:\\users\\admin\\anaconda3\\lib\\site-packages (from pandas-profiling) (0.10.1)\n",
      "Requirement already satisfied, skipping upgrade: scipy>=1.4.1 in c:\\users\\admin\\anaconda3\\lib\\site-packages (from pandas-profiling) (1.5.0)\n",
      "Requirement already satisfied, skipping upgrade: MarkupSafe>=0.23 in c:\\users\\admin\\anaconda3\\lib\\site-packages (from jinja2>=2.11.1->pandas-profiling) (1.1.1)\n",
      "Requirement already satisfied, skipping upgrade: networkx>=2.4 in c:\\users\\admin\\anaconda3\\lib\\site-packages (from visions[type_image_path]==0.6.0->pandas-profiling) (2.4)\n",
      "Requirement already satisfied, skipping upgrade: imagehash; extra == \"type_image_path\" in c:\\users\\admin\\anaconda3\\lib\\site-packages (from visions[type_image_path]==0.6.0->pandas-profiling) (4.2.0)\n",
      "Requirement already satisfied, skipping upgrade: Pillow; extra == \"type_image_path\" in c:\\users\\admin\\anaconda3\\lib\\site-packages (from visions[type_image_path]==0.6.0->pandas-profiling) (7.2.0)\n",
      "Requirement already satisfied, skipping upgrade: ipython>=4.0.0; python_version >= \"3.3\" in c:\\users\\admin\\anaconda3\\lib\\site-packages (from ipywidgets>=7.5.1->pandas-profiling) (7.16.1)\n",
      "Requirement already satisfied, skipping upgrade: widgetsnbextension~=3.5.0 in c:\\users\\admin\\anaconda3\\lib\\site-packages (from ipywidgets>=7.5.1->pandas-profiling) (3.5.1)\n",
      "Requirement already satisfied, skipping upgrade: nbformat>=4.2.0 in c:\\users\\admin\\anaconda3\\lib\\site-packages (from ipywidgets>=7.5.1->pandas-profiling) (5.0.7)\n",
      "Requirement already satisfied, skipping upgrade: ipykernel>=4.5.1 in c:\\users\\admin\\anaconda3\\lib\\site-packages (from ipywidgets>=7.5.1->pandas-profiling) (5.3.2)\n",
      "Requirement already satisfied, skipping upgrade: traitlets>=4.3.1 in c:\\users\\admin\\anaconda3\\lib\\site-packages (from ipywidgets>=7.5.1->pandas-profiling) (4.3.3)\n",
      "Requirement already satisfied, skipping upgrade: kiwisolver>=1.0.1 in c:\\users\\admin\\anaconda3\\lib\\site-packages (from matplotlib>=3.2.0->pandas-profiling) (1.2.0)\n",
      "Requirement already satisfied, skipping upgrade: cycler>=0.10 in c:\\users\\admin\\anaconda3\\lib\\site-packages (from matplotlib>=3.2.0->pandas-profiling) (0.10.0)\n",
      "Requirement already satisfied, skipping upgrade: pyparsing!=2.0.4,!=2.1.2,!=2.1.6,>=2.0.1 in c:\\users\\admin\\anaconda3\\lib\\site-packages (from matplotlib>=3.2.0->pandas-profiling) (2.4.7)\n",
      "Requirement already satisfied, skipping upgrade: python-dateutil>=2.1 in c:\\users\\admin\\anaconda3\\lib\\site-packages (from matplotlib>=3.2.0->pandas-profiling) (2.8.1)\n",
      "Requirement already satisfied, skipping upgrade: pytz>=2017.2 in c:\\users\\admin\\anaconda3\\lib\\site-packages (from pandas!=1.0.0,!=1.0.1,!=1.0.2,!=1.1.0,>=0.25.3->pandas-profiling) (2020.1)\n",
      "Requirement already satisfied, skipping upgrade: idna<3,>=2.5 in c:\\users\\admin\\anaconda3\\lib\\site-packages (from requests>=2.24.0->pandas-profiling) (2.10)\n",
      "Requirement already satisfied, skipping upgrade: urllib3!=1.25.0,!=1.25.1,<1.26,>=1.21.1 in c:\\users\\admin\\anaconda3\\lib\\site-packages (from requests>=2.24.0->pandas-profiling) (1.25.9)\n",
      "Requirement already satisfied, skipping upgrade: certifi>=2017.4.17 in c:\\users\\admin\\anaconda3\\lib\\site-packages (from requests>=2.24.0->pandas-profiling) (2020.6.20)\n",
      "Requirement already satisfied, skipping upgrade: chardet<4,>=3.0.2 in c:\\users\\admin\\anaconda3\\lib\\site-packages (from requests>=2.24.0->pandas-profiling) (3.0.4)\n",
      "Requirement already satisfied, skipping upgrade: pyyaml in c:\\users\\admin\\anaconda3\\lib\\site-packages (from confuse>=1.0.0->pandas-profiling) (5.3.1)\n",
      "Requirement already satisfied, skipping upgrade: numba>=0.38.1 in c:\\users\\admin\\anaconda3\\lib\\site-packages (from phik>=0.10.0->pandas-profiling) (0.50.1)\n",
      "Requirement already satisfied, skipping upgrade: decorator>=4.3.0 in c:\\users\\admin\\anaconda3\\lib\\site-packages (from networkx>=2.4->visions[type_image_path]==0.6.0->pandas-profiling) (4.4.2)\n",
      "Requirement already satisfied, skipping upgrade: six in c:\\users\\admin\\anaconda3\\lib\\site-packages (from imagehash; extra == \"type_image_path\"->visions[type_image_path]==0.6.0->pandas-profiling) (1.15.0)\n",
      "Requirement already satisfied, skipping upgrade: PyWavelets in c:\\users\\admin\\anaconda3\\lib\\site-packages (from imagehash; extra == \"type_image_path\"->visions[type_image_path]==0.6.0->pandas-profiling) (1.1.1)\n",
      "Requirement already satisfied, skipping upgrade: pickleshare in c:\\users\\admin\\anaconda3\\lib\\site-packages (from ipython>=4.0.0; python_version >= \"3.3\"->ipywidgets>=7.5.1->pandas-profiling) (0.7.5)\n",
      "Requirement already satisfied, skipping upgrade: backcall in c:\\users\\admin\\anaconda3\\lib\\site-packages (from ipython>=4.0.0; python_version >= \"3.3\"->ipywidgets>=7.5.1->pandas-profiling) (0.2.0)\n",
      "Requirement already satisfied, skipping upgrade: pygments in c:\\users\\admin\\anaconda3\\lib\\site-packages (from ipython>=4.0.0; python_version >= \"3.3\"->ipywidgets>=7.5.1->pandas-profiling) (2.6.1)\n",
      "Requirement already satisfied, skipping upgrade: colorama; sys_platform == \"win32\" in c:\\users\\admin\\anaconda3\\lib\\site-packages (from ipython>=4.0.0; python_version >= \"3.3\"->ipywidgets>=7.5.1->pandas-profiling) (0.4.3)\n",
      "Requirement already satisfied, skipping upgrade: jedi>=0.10 in c:\\users\\admin\\anaconda3\\lib\\site-packages (from ipython>=4.0.0; python_version >= \"3.3\"->ipywidgets>=7.5.1->pandas-profiling) (0.17.1)\n",
      "Requirement already satisfied, skipping upgrade: prompt-toolkit!=3.0.0,!=3.0.1,<3.1.0,>=2.0.0 in c:\\users\\admin\\anaconda3\\lib\\site-packages (from ipython>=4.0.0; python_version >= \"3.3\"->ipywidgets>=7.5.1->pandas-profiling) (3.0.5)\n",
      "Requirement already satisfied, skipping upgrade: setuptools>=18.5 in c:\\users\\admin\\anaconda3\\lib\\site-packages (from ipython>=4.0.0; python_version >= \"3.3\"->ipywidgets>=7.5.1->pandas-profiling) (49.2.0.post20200714)\n",
      "Requirement already satisfied, skipping upgrade: notebook>=4.4.1 in c:\\users\\admin\\anaconda3\\lib\\site-packages (from widgetsnbextension~=3.5.0->ipywidgets>=7.5.1->pandas-profiling) (6.0.3)\n",
      "Requirement already satisfied, skipping upgrade: jsonschema!=2.5.0,>=2.4 in c:\\users\\admin\\anaconda3\\lib\\site-packages (from nbformat>=4.2.0->ipywidgets>=7.5.1->pandas-profiling) (3.2.0)\n",
      "Requirement already satisfied, skipping upgrade: ipython-genutils in c:\\users\\admin\\anaconda3\\lib\\site-packages (from nbformat>=4.2.0->ipywidgets>=7.5.1->pandas-profiling) (0.2.0)\n",
      "Requirement already satisfied, skipping upgrade: jupyter-core in c:\\users\\admin\\anaconda3\\lib\\site-packages (from nbformat>=4.2.0->ipywidgets>=7.5.1->pandas-profiling) (4.6.3)\n",
      "Requirement already satisfied, skipping upgrade: tornado>=4.2 in c:\\users\\admin\\anaconda3\\lib\\site-packages (from ipykernel>=4.5.1->ipywidgets>=7.5.1->pandas-profiling) (6.0.4)\n",
      "Requirement already satisfied, skipping upgrade: jupyter-client in c:\\users\\admin\\anaconda3\\lib\\site-packages (from ipykernel>=4.5.1->ipywidgets>=7.5.1->pandas-profiling) (6.1.6)\n",
      "Requirement already satisfied, skipping upgrade: llvmlite<0.34,>=0.33.0.dev0 in c:\\users\\admin\\anaconda3\\lib\\site-packages (from numba>=0.38.1->phik>=0.10.0->pandas-profiling) (0.33.0+1.g022ab0f)\n",
      "Requirement already satisfied, skipping upgrade: parso<0.8.0,>=0.7.0 in c:\\users\\admin\\anaconda3\\lib\\site-packages (from jedi>=0.10->ipython>=4.0.0; python_version >= \"3.3\"->ipywidgets>=7.5.1->pandas-profiling) (0.7.0)\n",
      "Requirement already satisfied, skipping upgrade: wcwidth in c:\\users\\admin\\anaconda3\\lib\\site-packages (from prompt-toolkit!=3.0.0,!=3.0.1,<3.1.0,>=2.0.0->ipython>=4.0.0; python_version >= \"3.3\"->ipywidgets>=7.5.1->pandas-profiling) (0.2.5)\n",
      "Requirement already satisfied, skipping upgrade: terminado>=0.8.1 in c:\\users\\admin\\anaconda3\\lib\\site-packages (from notebook>=4.4.1->widgetsnbextension~=3.5.0->ipywidgets>=7.5.1->pandas-profiling) (0.8.3)\n",
      "Requirement already satisfied, skipping upgrade: nbconvert in c:\\users\\admin\\anaconda3\\lib\\site-packages (from notebook>=4.4.1->widgetsnbextension~=3.5.0->ipywidgets>=7.5.1->pandas-profiling) (5.6.1)\n",
      "Requirement already satisfied, skipping upgrade: prometheus-client in c:\\users\\admin\\anaconda3\\lib\\site-packages (from notebook>=4.4.1->widgetsnbextension~=3.5.0->ipywidgets>=7.5.1->pandas-profiling) (0.8.0)\n",
      "Requirement already satisfied, skipping upgrade: pyzmq>=17 in c:\\users\\admin\\anaconda3\\lib\\site-packages (from notebook>=4.4.1->widgetsnbextension~=3.5.0->ipywidgets>=7.5.1->pandas-profiling) (19.0.1)\n",
      "Requirement already satisfied, skipping upgrade: Send2Trash in c:\\users\\admin\\anaconda3\\lib\\site-packages (from notebook>=4.4.1->widgetsnbextension~=3.5.0->ipywidgets>=7.5.1->pandas-profiling) (1.5.0)\n",
      "Requirement already satisfied, skipping upgrade: pyrsistent>=0.14.0 in c:\\users\\admin\\anaconda3\\lib\\site-packages (from jsonschema!=2.5.0,>=2.4->nbformat>=4.2.0->ipywidgets>=7.5.1->pandas-profiling) (0.16.0)\n",
      "Requirement already satisfied, skipping upgrade: pywin32>=1.0; sys_platform == \"win32\" in c:\\users\\admin\\anaconda3\\lib\\site-packages (from jupyter-core->nbformat>=4.2.0->ipywidgets>=7.5.1->pandas-profiling) (227)\n",
      "Requirement already satisfied, skipping upgrade: bleach in c:\\users\\admin\\anaconda3\\lib\\site-packages (from nbconvert->notebook>=4.4.1->widgetsnbextension~=3.5.0->ipywidgets>=7.5.1->pandas-profiling) (3.1.5)\n",
      "Requirement already satisfied, skipping upgrade: entrypoints>=0.2.2 in c:\\users\\admin\\anaconda3\\lib\\site-packages (from nbconvert->notebook>=4.4.1->widgetsnbextension~=3.5.0->ipywidgets>=7.5.1->pandas-profiling) (0.3)\n",
      "Requirement already satisfied, skipping upgrade: defusedxml in c:\\users\\admin\\anaconda3\\lib\\site-packages (from nbconvert->notebook>=4.4.1->widgetsnbextension~=3.5.0->ipywidgets>=7.5.1->pandas-profiling) (0.6.0)\n",
      "Requirement already satisfied, skipping upgrade: mistune<2,>=0.8.1 in c:\\users\\admin\\anaconda3\\lib\\site-packages (from nbconvert->notebook>=4.4.1->widgetsnbextension~=3.5.0->ipywidgets>=7.5.1->pandas-profiling) (0.8.4)\n",
      "Requirement already satisfied, skipping upgrade: pandocfilters>=1.4.1 in c:\\users\\admin\\anaconda3\\lib\\site-packages (from nbconvert->notebook>=4.4.1->widgetsnbextension~=3.5.0->ipywidgets>=7.5.1->pandas-profiling) (1.4.2)\n",
      "Requirement already satisfied, skipping upgrade: testpath in c:\\users\\admin\\anaconda3\\lib\\site-packages (from nbconvert->notebook>=4.4.1->widgetsnbextension~=3.5.0->ipywidgets>=7.5.1->pandas-profiling) (0.4.4)\n",
      "Requirement already satisfied, skipping upgrade: webencodings in c:\\users\\admin\\anaconda3\\lib\\site-packages (from bleach->nbconvert->notebook>=4.4.1->widgetsnbextension~=3.5.0->ipywidgets>=7.5.1->pandas-profiling) (0.5.1)\n",
      "Requirement already satisfied, skipping upgrade: packaging in c:\\users\\admin\\anaconda3\\lib\\site-packages (from bleach->nbconvert->notebook>=4.4.1->widgetsnbextension~=3.5.0->ipywidgets>=7.5.1->pandas-profiling) (20.4)\n"
     ]
    }
   ],
   "source": [
    "import numpy as np\n",
    "np.set_printoptions(precision=4)      # To display values only upto four decimal places. \n",
    "\n",
    "import pandas as pd\n",
    "pd.set_option('mode.chained_assignment', None)       # To suppress pandas warnings.\n",
    "pd.set_option('display.max_colwidth', None)          # To display all the data in the columns.\n",
    "pd.set_option('display.max_columns', None)           # To display all the columns.\n",
    "\n",
    "import matplotlib.pyplot as plt\n",
    "%matplotlib inline\n",
    "\n",
    "import warnings\n",
    "warnings.filterwarnings('ignore')     # To suppress all the warnings in the notebook.\n",
    "\n",
    "import seaborn as sns\n",
    "sns.set_style(\"dark\")\n",
    "                                       \n",
    "!pip install -U pandas-profiling\n",
    "!pip install -q --upgrade pandas-profiling         "
   ]
  },
  {
   "cell_type": "markdown",
   "metadata": {},
   "source": [
    "### Data Acquisition and Description"
   ]
  },
  {
   "cell_type": "markdown",
   "metadata": {},
   "source": [
    "|Id|Feature|Description|\n",
    "|:--|:--|:--|\n",
    "|01| competitorname |Name of competitor candy| \n",
    "|02| chocolate      |Does it contain chocolate? |  \n",
    "|03| fruity           |Is it fruit flavored?| \n",
    "|04| caramel      |Is there caramel in the candy? |   \n",
    "|05|peanutalmondy        |Does it contain peanuts, peanut butter or almonds? |\n",
    "|06| nougat          | Does it contain nougat?|\n",
    "|07| crispedricewafer        | Does it contain crisped rice, wafers, or a cookie component?|\n",
    "|08| hard         | Is it a hard candy?|\n",
    "|09| bar   | Is it a candy bar?|\n",
    "|10| pluribus         | Is it one of many candies in a bag or box?|\n",
    "|11| sugarpercent         | The percentile of sugar it falls under within the data set|\n",
    "|12| pricepercent          | The unit price percentile compared to the rest of the set|\n",
    "|13| winpercent          | The overall win percentage|\n"
   ]
  },
  {
   "cell_type": "code",
   "execution_count": 4,
   "metadata": {
    "scrolled": true
   },
   "outputs": [
    {
     "data": {
      "text/html": [
       "<div>\n",
       "<style scoped>\n",
       "    .dataframe tbody tr th:only-of-type {\n",
       "        vertical-align: middle;\n",
       "    }\n",
       "\n",
       "    .dataframe tbody tr th {\n",
       "        vertical-align: top;\n",
       "    }\n",
       "\n",
       "    .dataframe thead th {\n",
       "        text-align: right;\n",
       "    }\n",
       "</style>\n",
       "<table border=\"1\" class=\"dataframe\">\n",
       "  <thead>\n",
       "    <tr style=\"text-align: right;\">\n",
       "      <th></th>\n",
       "      <th>competitorname</th>\n",
       "      <th>chocolate</th>\n",
       "      <th>fruity</th>\n",
       "      <th>caramel</th>\n",
       "      <th>peanutyalmondy</th>\n",
       "      <th>nougat</th>\n",
       "      <th>crispedricewafer</th>\n",
       "      <th>hard</th>\n",
       "      <th>bar</th>\n",
       "      <th>pluribus</th>\n",
       "      <th>sugarpercent</th>\n",
       "      <th>pricepercent</th>\n",
       "      <th>winpercent</th>\n",
       "    </tr>\n",
       "  </thead>\n",
       "  <tbody>\n",
       "    <tr>\n",
       "      <th>0</th>\n",
       "      <td>100 Grand</td>\n",
       "      <td>1</td>\n",
       "      <td>0</td>\n",
       "      <td>1</td>\n",
       "      <td>0</td>\n",
       "      <td>0</td>\n",
       "      <td>1</td>\n",
       "      <td>0</td>\n",
       "      <td>1</td>\n",
       "      <td>0</td>\n",
       "      <td>0.732</td>\n",
       "      <td>0.860</td>\n",
       "      <td>66.971725</td>\n",
       "    </tr>\n",
       "    <tr>\n",
       "      <th>1</th>\n",
       "      <td>3 Musketeers</td>\n",
       "      <td>1</td>\n",
       "      <td>0</td>\n",
       "      <td>0</td>\n",
       "      <td>0</td>\n",
       "      <td>1</td>\n",
       "      <td>0</td>\n",
       "      <td>0</td>\n",
       "      <td>1</td>\n",
       "      <td>0</td>\n",
       "      <td>0.604</td>\n",
       "      <td>0.511</td>\n",
       "      <td>67.602936</td>\n",
       "    </tr>\n",
       "    <tr>\n",
       "      <th>2</th>\n",
       "      <td>One dime</td>\n",
       "      <td>0</td>\n",
       "      <td>0</td>\n",
       "      <td>0</td>\n",
       "      <td>0</td>\n",
       "      <td>0</td>\n",
       "      <td>0</td>\n",
       "      <td>0</td>\n",
       "      <td>0</td>\n",
       "      <td>0</td>\n",
       "      <td>0.011</td>\n",
       "      <td>0.116</td>\n",
       "      <td>32.261086</td>\n",
       "    </tr>\n",
       "    <tr>\n",
       "      <th>3</th>\n",
       "      <td>One quarter</td>\n",
       "      <td>0</td>\n",
       "      <td>0</td>\n",
       "      <td>0</td>\n",
       "      <td>0</td>\n",
       "      <td>0</td>\n",
       "      <td>0</td>\n",
       "      <td>0</td>\n",
       "      <td>0</td>\n",
       "      <td>0</td>\n",
       "      <td>0.011</td>\n",
       "      <td>0.511</td>\n",
       "      <td>46.116505</td>\n",
       "    </tr>\n",
       "    <tr>\n",
       "      <th>4</th>\n",
       "      <td>Air Heads</td>\n",
       "      <td>0</td>\n",
       "      <td>1</td>\n",
       "      <td>0</td>\n",
       "      <td>0</td>\n",
       "      <td>0</td>\n",
       "      <td>0</td>\n",
       "      <td>0</td>\n",
       "      <td>0</td>\n",
       "      <td>0</td>\n",
       "      <td>0.906</td>\n",
       "      <td>0.511</td>\n",
       "      <td>52.341465</td>\n",
       "    </tr>\n",
       "  </tbody>\n",
       "</table>\n",
       "</div>"
      ],
      "text/plain": [
       "  competitorname  chocolate  fruity  caramel  peanutyalmondy  nougat  \\\n",
       "0      100 Grand          1       0        1               0       0   \n",
       "1   3 Musketeers          1       0        0               0       1   \n",
       "2       One dime          0       0        0               0       0   \n",
       "3    One quarter          0       0        0               0       0   \n",
       "4      Air Heads          0       1        0               0       0   \n",
       "\n",
       "   crispedricewafer  hard  bar  pluribus  sugarpercent  pricepercent  \\\n",
       "0                 1     0    1         0         0.732         0.860   \n",
       "1                 0     0    1         0         0.604         0.511   \n",
       "2                 0     0    0         0         0.011         0.116   \n",
       "3                 0     0    0         0         0.011         0.511   \n",
       "4                 0     0    0         0         0.906         0.511   \n",
       "\n",
       "   winpercent  \n",
       "0   66.971725  \n",
       "1   67.602936  \n",
       "2   32.261086  \n",
       "3   46.116505  \n",
       "4   52.341465  "
      ]
     },
     "execution_count": 4,
     "metadata": {},
     "output_type": "execute_result"
    }
   ],
   "source": [
    "df = pd.read_csv('https://raw.githubusercontent.com/insaid2018/Term-2/master/Projects/candy-data.csv')\n",
    "df.head()"
   ]
  },
  {
   "cell_type": "markdown",
   "metadata": {},
   "source": [
    "### Exploratory Data Analysis"
   ]
  },
  {
   "cell_type": "code",
   "execution_count": 5,
   "metadata": {},
   "outputs": [
    {
     "name": "stdout",
     "output_type": "stream",
     "text": [
      "<class 'pandas.core.frame.DataFrame'>\n",
      "RangeIndex: 85 entries, 0 to 84\n",
      "Data columns (total 13 columns):\n",
      " #   Column            Non-Null Count  Dtype  \n",
      "---  ------            --------------  -----  \n",
      " 0   competitorname    85 non-null     object \n",
      " 1   chocolate         85 non-null     int64  \n",
      " 2   fruity            85 non-null     int64  \n",
      " 3   caramel           85 non-null     int64  \n",
      " 4   peanutyalmondy    85 non-null     int64  \n",
      " 5   nougat            85 non-null     int64  \n",
      " 6   crispedricewafer  85 non-null     int64  \n",
      " 7   hard              85 non-null     int64  \n",
      " 8   bar               85 non-null     int64  \n",
      " 9   pluribus          85 non-null     int64  \n",
      " 10  sugarpercent      85 non-null     float64\n",
      " 11  pricepercent      85 non-null     float64\n",
      " 12  winpercent        85 non-null     float64\n",
      "dtypes: float64(3), int64(9), object(1)\n",
      "memory usage: 8.8+ KB\n"
     ]
    }
   ],
   "source": [
    "df.info()"
   ]
  },
  {
   "cell_type": "markdown",
   "metadata": {},
   "source": [
    "- Null values are absent"
   ]
  },
  {
   "cell_type": "code",
   "execution_count": 6,
   "metadata": {},
   "outputs": [
    {
     "data": {
      "text/html": [
       "<div>\n",
       "<style scoped>\n",
       "    .dataframe tbody tr th:only-of-type {\n",
       "        vertical-align: middle;\n",
       "    }\n",
       "\n",
       "    .dataframe tbody tr th {\n",
       "        vertical-align: top;\n",
       "    }\n",
       "\n",
       "    .dataframe thead th {\n",
       "        text-align: right;\n",
       "    }\n",
       "</style>\n",
       "<table border=\"1\" class=\"dataframe\">\n",
       "  <thead>\n",
       "    <tr style=\"text-align: right;\">\n",
       "      <th></th>\n",
       "      <th>competitorname</th>\n",
       "      <th>chocolate</th>\n",
       "      <th>fruity</th>\n",
       "      <th>caramel</th>\n",
       "      <th>peanutyalmondy</th>\n",
       "      <th>nougat</th>\n",
       "      <th>crispedricewafer</th>\n",
       "      <th>hard</th>\n",
       "      <th>bar</th>\n",
       "      <th>pluribus</th>\n",
       "      <th>sugarpercent</th>\n",
       "      <th>pricepercent</th>\n",
       "      <th>winpercent</th>\n",
       "    </tr>\n",
       "  </thead>\n",
       "  <tbody>\n",
       "    <tr>\n",
       "      <th>count</th>\n",
       "      <td>85</td>\n",
       "      <td>85.000000</td>\n",
       "      <td>85.000000</td>\n",
       "      <td>85.000000</td>\n",
       "      <td>85.000000</td>\n",
       "      <td>85.000000</td>\n",
       "      <td>85.000000</td>\n",
       "      <td>85.000000</td>\n",
       "      <td>85.000000</td>\n",
       "      <td>85.000000</td>\n",
       "      <td>85.000000</td>\n",
       "      <td>85.000000</td>\n",
       "      <td>85.000000</td>\n",
       "    </tr>\n",
       "    <tr>\n",
       "      <th>unique</th>\n",
       "      <td>85</td>\n",
       "      <td>NaN</td>\n",
       "      <td>NaN</td>\n",
       "      <td>NaN</td>\n",
       "      <td>NaN</td>\n",
       "      <td>NaN</td>\n",
       "      <td>NaN</td>\n",
       "      <td>NaN</td>\n",
       "      <td>NaN</td>\n",
       "      <td>NaN</td>\n",
       "      <td>NaN</td>\n",
       "      <td>NaN</td>\n",
       "      <td>NaN</td>\n",
       "    </tr>\n",
       "    <tr>\n",
       "      <th>top</th>\n",
       "      <td>Starburst</td>\n",
       "      <td>NaN</td>\n",
       "      <td>NaN</td>\n",
       "      <td>NaN</td>\n",
       "      <td>NaN</td>\n",
       "      <td>NaN</td>\n",
       "      <td>NaN</td>\n",
       "      <td>NaN</td>\n",
       "      <td>NaN</td>\n",
       "      <td>NaN</td>\n",
       "      <td>NaN</td>\n",
       "      <td>NaN</td>\n",
       "      <td>NaN</td>\n",
       "    </tr>\n",
       "    <tr>\n",
       "      <th>freq</th>\n",
       "      <td>1</td>\n",
       "      <td>NaN</td>\n",
       "      <td>NaN</td>\n",
       "      <td>NaN</td>\n",
       "      <td>NaN</td>\n",
       "      <td>NaN</td>\n",
       "      <td>NaN</td>\n",
       "      <td>NaN</td>\n",
       "      <td>NaN</td>\n",
       "      <td>NaN</td>\n",
       "      <td>NaN</td>\n",
       "      <td>NaN</td>\n",
       "      <td>NaN</td>\n",
       "    </tr>\n",
       "    <tr>\n",
       "      <th>mean</th>\n",
       "      <td>NaN</td>\n",
       "      <td>0.435294</td>\n",
       "      <td>0.447059</td>\n",
       "      <td>0.164706</td>\n",
       "      <td>0.164706</td>\n",
       "      <td>0.082353</td>\n",
       "      <td>0.082353</td>\n",
       "      <td>0.176471</td>\n",
       "      <td>0.247059</td>\n",
       "      <td>0.517647</td>\n",
       "      <td>0.478647</td>\n",
       "      <td>0.468882</td>\n",
       "      <td>50.316764</td>\n",
       "    </tr>\n",
       "    <tr>\n",
       "      <th>std</th>\n",
       "      <td>NaN</td>\n",
       "      <td>0.498738</td>\n",
       "      <td>0.500140</td>\n",
       "      <td>0.373116</td>\n",
       "      <td>0.373116</td>\n",
       "      <td>0.276533</td>\n",
       "      <td>0.276533</td>\n",
       "      <td>0.383482</td>\n",
       "      <td>0.433861</td>\n",
       "      <td>0.502654</td>\n",
       "      <td>0.282778</td>\n",
       "      <td>0.285740</td>\n",
       "      <td>14.714357</td>\n",
       "    </tr>\n",
       "    <tr>\n",
       "      <th>min</th>\n",
       "      <td>NaN</td>\n",
       "      <td>0.000000</td>\n",
       "      <td>0.000000</td>\n",
       "      <td>0.000000</td>\n",
       "      <td>0.000000</td>\n",
       "      <td>0.000000</td>\n",
       "      <td>0.000000</td>\n",
       "      <td>0.000000</td>\n",
       "      <td>0.000000</td>\n",
       "      <td>0.000000</td>\n",
       "      <td>0.011000</td>\n",
       "      <td>0.011000</td>\n",
       "      <td>22.445341</td>\n",
       "    </tr>\n",
       "    <tr>\n",
       "      <th>25%</th>\n",
       "      <td>NaN</td>\n",
       "      <td>0.000000</td>\n",
       "      <td>0.000000</td>\n",
       "      <td>0.000000</td>\n",
       "      <td>0.000000</td>\n",
       "      <td>0.000000</td>\n",
       "      <td>0.000000</td>\n",
       "      <td>0.000000</td>\n",
       "      <td>0.000000</td>\n",
       "      <td>0.000000</td>\n",
       "      <td>0.220000</td>\n",
       "      <td>0.255000</td>\n",
       "      <td>39.141056</td>\n",
       "    </tr>\n",
       "    <tr>\n",
       "      <th>50%</th>\n",
       "      <td>NaN</td>\n",
       "      <td>0.000000</td>\n",
       "      <td>0.000000</td>\n",
       "      <td>0.000000</td>\n",
       "      <td>0.000000</td>\n",
       "      <td>0.000000</td>\n",
       "      <td>0.000000</td>\n",
       "      <td>0.000000</td>\n",
       "      <td>0.000000</td>\n",
       "      <td>1.000000</td>\n",
       "      <td>0.465000</td>\n",
       "      <td>0.465000</td>\n",
       "      <td>47.829754</td>\n",
       "    </tr>\n",
       "    <tr>\n",
       "      <th>75%</th>\n",
       "      <td>NaN</td>\n",
       "      <td>1.000000</td>\n",
       "      <td>1.000000</td>\n",
       "      <td>0.000000</td>\n",
       "      <td>0.000000</td>\n",
       "      <td>0.000000</td>\n",
       "      <td>0.000000</td>\n",
       "      <td>0.000000</td>\n",
       "      <td>0.000000</td>\n",
       "      <td>1.000000</td>\n",
       "      <td>0.732000</td>\n",
       "      <td>0.651000</td>\n",
       "      <td>59.863998</td>\n",
       "    </tr>\n",
       "    <tr>\n",
       "      <th>max</th>\n",
       "      <td>NaN</td>\n",
       "      <td>1.000000</td>\n",
       "      <td>1.000000</td>\n",
       "      <td>1.000000</td>\n",
       "      <td>1.000000</td>\n",
       "      <td>1.000000</td>\n",
       "      <td>1.000000</td>\n",
       "      <td>1.000000</td>\n",
       "      <td>1.000000</td>\n",
       "      <td>1.000000</td>\n",
       "      <td>0.988000</td>\n",
       "      <td>0.976000</td>\n",
       "      <td>84.180290</td>\n",
       "    </tr>\n",
       "  </tbody>\n",
       "</table>\n",
       "</div>"
      ],
      "text/plain": [
       "       competitorname  chocolate     fruity    caramel  peanutyalmondy  \\\n",
       "count              85  85.000000  85.000000  85.000000       85.000000   \n",
       "unique             85        NaN        NaN        NaN             NaN   \n",
       "top         Starburst        NaN        NaN        NaN             NaN   \n",
       "freq                1        NaN        NaN        NaN             NaN   \n",
       "mean              NaN   0.435294   0.447059   0.164706        0.164706   \n",
       "std               NaN   0.498738   0.500140   0.373116        0.373116   \n",
       "min               NaN   0.000000   0.000000   0.000000        0.000000   \n",
       "25%               NaN   0.000000   0.000000   0.000000        0.000000   \n",
       "50%               NaN   0.000000   0.000000   0.000000        0.000000   \n",
       "75%               NaN   1.000000   1.000000   0.000000        0.000000   \n",
       "max               NaN   1.000000   1.000000   1.000000        1.000000   \n",
       "\n",
       "           nougat  crispedricewafer       hard        bar   pluribus  \\\n",
       "count   85.000000         85.000000  85.000000  85.000000  85.000000   \n",
       "unique        NaN               NaN        NaN        NaN        NaN   \n",
       "top           NaN               NaN        NaN        NaN        NaN   \n",
       "freq          NaN               NaN        NaN        NaN        NaN   \n",
       "mean     0.082353          0.082353   0.176471   0.247059   0.517647   \n",
       "std      0.276533          0.276533   0.383482   0.433861   0.502654   \n",
       "min      0.000000          0.000000   0.000000   0.000000   0.000000   \n",
       "25%      0.000000          0.000000   0.000000   0.000000   0.000000   \n",
       "50%      0.000000          0.000000   0.000000   0.000000   1.000000   \n",
       "75%      0.000000          0.000000   0.000000   0.000000   1.000000   \n",
       "max      1.000000          1.000000   1.000000   1.000000   1.000000   \n",
       "\n",
       "        sugarpercent  pricepercent  winpercent  \n",
       "count      85.000000     85.000000   85.000000  \n",
       "unique           NaN           NaN         NaN  \n",
       "top              NaN           NaN         NaN  \n",
       "freq             NaN           NaN         NaN  \n",
       "mean        0.478647      0.468882   50.316764  \n",
       "std         0.282778      0.285740   14.714357  \n",
       "min         0.011000      0.011000   22.445341  \n",
       "25%         0.220000      0.255000   39.141056  \n",
       "50%         0.465000      0.465000   47.829754  \n",
       "75%         0.732000      0.651000   59.863998  \n",
       "max         0.988000      0.976000   84.180290  "
      ]
     },
     "execution_count": 6,
     "metadata": {},
     "output_type": "execute_result"
    }
   ],
   "source": [
    "df.describe(include='all')"
   ]
  },
  {
   "cell_type": "markdown",
   "metadata": {},
   "source": [
    "Observations from ```.describe()``` are as under;\n",
    "\n",
    "- **competitorname** column is filled with unique values and cannot be used for the analysis. It must be dropped.\n",
    "\n",
    "- Win Percent column is normally distributed with 78% values within 1 standard deviation. \n",
    "\n",
    "- Most of the data is in binary yes/no format so drawing charts may not be very useful, but correlation charts should give valuable insights."
   ]
  },
  {
   "cell_type": "code",
   "execution_count": 7,
   "metadata": {
    "scrolled": true
   },
   "outputs": [],
   "source": [
    "df.drop(\"competitorname\", axis=1, inplace=True)"
   ]
  },
  {
   "cell_type": "markdown",
   "metadata": {},
   "source": [
    "### Pandas Profiling "
   ]
  },
  {
   "cell_type": "code",
   "execution_count": 8,
   "metadata": {},
   "outputs": [],
   "source": [
    "from pandas_profiling import ProfileReport\n",
    "profile = ProfileReport(df, title='Pandas Profiling Report', minimal=True, progress_bar=False)\n",
    "profile.to_file(\"Candy_Dataset_before_preprocessing.html\")"
   ]
  },
  {
   "cell_type": "markdown",
   "metadata": {},
   "source": [
    "#### Observations from the profile report\n",
    "\n",
    "- There are no missing values or duplicate rows.\n",
    "- sugarpercent, pricepercent and winpercent are all normally distributed\n",
    "- The warning about winpercent column having unique values can be discarded\n",
    "- column pairs like caramel-peanutyalmondy and nougat-crispedricewafer have identical values. If the correlation between such columns is more than 0.9, some columns may have to be dropped.\n",
    "- As no changes need to be made, we can skip processing and post profiling. "
   ]
  },
  {
   "cell_type": "code",
   "execution_count": 9,
   "metadata": {},
   "outputs": [
    {
     "data": {
      "text/plain": [
       "<matplotlib.axes._subplots.AxesSubplot at 0x28df81d6370>"
      ]
     },
     "execution_count": 9,
     "metadata": {},
     "output_type": "execute_result"
    },
    {
     "data": {
      "image/png": "[encoded data removed]",
      "text/plain": [
       "<Figure size 1440x1080 with 2 Axes>"
      ]
     },
     "metadata": {},
     "output_type": "display_data"
    }
   ],
   "source": [
    "plt.subplots(figsize=(20,15))\n",
    "sns.heatmap(df.corr(), annot=True, cmap='Spectral_r')"
   ]
  },
  {
   "cell_type": "markdown",
   "metadata": {},
   "source": [
    "#### Observations from the correlation heatmap\n",
    "\n",
    "- The column pairs we identified in the  profile report may have similar counts of yes/no but are not correlated, so we need not drop any columns\n",
    "- Chocolate and fruity have a high negative correlation indicating that most candies that contain chocolate are not fruity, and vice versa\n",
    "- Pluribus and bar also have a negative correlation which tells us that not many chocolate bars are sold as a pluribus pack\n",
    "- Similarly, we can observe that many bars contain chocolate as an ingredient and most bars are not fruity in nature. Nougat is also a common iongredient in bars\n",
    "- Chocolate is most highly correlated with win percent, followed by peanutyalmondy. This informs us that chocolate and peanutalmondy bars have a high win percent\n",
    "- Fruity and winpercent have a negative correlation of 0.38 (-) and so in some cases fruity ingredients reduced the win percent of those candies. From the 0.43 (-) negative correlation between fruity and price percent, we can also assume that such candies are priced lower as well\n",
    "- Hard candies and pluribus candies also have a negative correlation with win percent, indicating that these items are also not popular with some consumers\n",
    "- Bar has a correlation with pricepercent. This tells us that bars are expensive but due to the correlation between bar and win percent, we can see that customers still prefer them\n",
    "- Price percent has a correlation with win percent, which is to be expected, However, the correlation is positive and not negative, indicating that candies with higher prices actually have a higher win percent. This might be because more expensive candies increase customers expectations from the product\n",
    "- All features in the dataset show a correlation of more than 0.1 with the win percent. We can safely conclude that each feature is relevant to the win percent\n"
   ]
  },
  {
   "cell_type": "markdown",
   "metadata": {},
   "source": [
    "### Linear Regression Assumptions\n",
    "- We can now check the assumptions for Linear Regression"
   ]
  },
  {
   "cell_type": "markdown",
   "metadata": {},
   "source": [
    "#### 1. Distribution of dependent variable\n"
   ]
  },
  {
   "cell_type": "code",
   "execution_count": 10,
   "metadata": {
    "scrolled": true
   },
   "outputs": [
    {
     "data": {
      "text/plain": [
       "<Figure size 1440x1440 with 0 Axes>"
      ]
     },
     "execution_count": 10,
     "metadata": {},
     "output_type": "execute_result"
    },
    {
     "data": {
      "image/png": "[encoded data removed]",
      "text/plain": [
       "<Figure size 432x288 with 1 Axes>"
      ]
     },
     "metadata": {},
     "output_type": "display_data"
    },
    {
     "data": {
      "text/plain": [
       "<Figure size 1440x1440 with 0 Axes>"
      ]
     },
     "metadata": {},
     "output_type": "display_data"
    }
   ],
   "source": [
    "\n",
    "sns.distplot(df['winpercent'])\n",
    "plt.figure(figsize=(20,20))\n"
   ]
  },
  {
   "cell_type": "markdown",
   "metadata": {},
   "source": [
    "- From the plot above, we can observe that the dependent variable winpercent is normally distributed"
   ]
  },
  {
   "cell_type": "markdown",
   "metadata": {},
   "source": [
    "#### 2. Correlation of Independent Variables\n",
    "\n",
    "- The independent variables should not have a higher correlation than 0.8"
   ]
  },
  {
   "cell_type": "code",
   "execution_count": 12,
   "metadata": {
    "scrolled": true
   },
   "outputs": [
    {
     "ename": "SyntaxError",
     "evalue": "invalid syntax (<ipython-input-12-c67936b61438>, line 3)",
     "output_type": "error",
     "traceback": [
      "\u001b[1;36m  File \u001b[1;32m\"<ipython-input-12-c67936b61438>\"\u001b[1;36m, line \u001b[1;32m3\u001b[0m\n\u001b[1;33m    sns.heatmap(df1.corr(), annot=True, cmap='Spectral_r')\u001b[0m\n\u001b[1;37m    ^\u001b[0m\n\u001b[1;31mSyntaxError\u001b[0m\u001b[1;31m:\u001b[0m invalid syntax\n"
     ]
    }
   ],
   "source": [
    "df1 = df.drop('winpercent', axis=1)\n",
    "plt.subplots(figsize=(14,14)\n",
    "sns.heatmap(df1.corr(), annot=True, cmap='Spectral_r')\n"
   ]
  },
  {
   "cell_type": "code",
   "execution_count": 363,
   "metadata": {},
   "outputs": [
    {
     "data": {
      "text/plain": [
       "<matplotlib.axes._subplots.AxesSubplot at 0x170048a1490>"
      ]
     },
     "execution_count": 363,
     "metadata": {},
     "output_type": "execute_result"
    },
    {
     "data": {
      "image/png": "[encoded data removed]",
      "text/plain": [
       "<Figure size 1080x1080 with 2 Axes>"
      ]
     },
     "metadata": {},
     "output_type": "display_data"
    }
   ],
   "source": [
    "df1 = df.drop('winpercent', axis=1)\n",
    "plt.figure(figsize=(15,15))\n",
    "plt.yticks(rotation=20)\n",
    "sns.heatmap(df.corr(), annot=True, cmap='Spectral_r')"
   ]
  },
  {
   "cell_type": "markdown",
   "metadata": {},
   "source": [
    "- As no two independent variables have a correlation of more than 0.8, our assumption is satisfied"
   ]
  },
  {
   "cell_type": "markdown",
   "metadata": {},
   "source": [
    "#### 3. Linear relationship between dependent variable and the independent variables"
   ]
  },
  {
   "cell_type": "code",
   "execution_count": 14,
   "metadata": {},
   "outputs": [
    {
     "data": {
      "text/plain": [
       "<Figure size 576x576 with 0 Axes>"
      ]
     },
     "metadata": {},
     "output_type": "display_data"
    },
    {
     "data": {
      "image/png": "[encoded data removed]",
      "text/plain": [
       "<Figure size 432x288 with 1 Axes>"
      ]
     },
     "metadata": {},
     "output_type": "display_data"
    },
    {
     "data": {
      "text/plain": [
       "<Figure size 576x576 with 0 Axes>"
      ]
     },
     "metadata": {},
     "output_type": "display_data"
    },
    {
     "data": {
      "image/png": "[encoded data removed]",
      "text/plain": [
       "<Figure size 432x288 with 1 Axes>"
      ]
     },
     "metadata": {},
     "output_type": "display_data"
    },
    {
     "data": {
      "text/plain": [
       "<Figure size 576x576 with 0 Axes>"
      ]
     },
     "metadata": {},
     "output_type": "display_data"
    },
    {
     "data": {
      "image/png": "[encoded data removed]",
      "text/plain": [
       "<Figure size 432x288 with 1 Axes>"
      ]
     },
     "metadata": {},
     "output_type": "display_data"
    },
    {
     "data": {
      "text/plain": [
       "<Figure size 576x576 with 0 Axes>"
      ]
     },
     "metadata": {},
     "output_type": "display_data"
    },
    {
     "data": {
      "image/png": "[encoded data removed]",
      "text/plain": [
       "<Figure size 432x288 with 1 Axes>"
      ]
     },
     "metadata": {},
     "output_type": "display_data"
    },
    {
     "data": {
      "text/plain": [
       "<Figure size 576x576 with 0 Axes>"
      ]
     },
     "metadata": {},
     "output_type": "display_data"
    },
    {
     "data": {
      "image/png": "[encoded data removed]",
      "text/plain": [
       "<Figure size 432x288 with 1 Axes>"
      ]
     },
     "metadata": {},
     "output_type": "display_data"
    },
    {
     "data": {
      "text/plain": [
       "<Figure size 576x576 with 0 Axes>"
      ]
     },
     "metadata": {},
     "output_type": "display_data"
    },
    {
     "data": {
      "image/png": "[encoded data removed]",
      "text/plain": [
       "<Figure size 432x288 with 1 Axes>"
      ]
     },
     "metadata": {},
     "output_type": "display_data"
    },
    {
     "data": {
      "text/plain": [
       "<Figure size 576x576 with 0 Axes>"
      ]
     },
     "metadata": {},
     "output_type": "display_data"
    },
    {
     "data": {
      "image/png": "[encoded data removed]",
      "text/plain": [
       "<Figure size 432x288 with 1 Axes>"
      ]
     },
     "metadata": {},
     "output_type": "display_data"
    },
    {
     "data": {
      "text/plain": [
       "<Figure size 576x576 with 0 Axes>"
      ]
     },
     "metadata": {},
     "output_type": "display_data"
    },
    {
     "data": {
      "image/png": "[encoded data removed]",
      "text/plain": [
       "<Figure size 432x288 with 1 Axes>"
      ]
     },
     "metadata": {},
     "output_type": "display_data"
    },
    {
     "data": {
      "text/plain": [
       "<Figure size 576x576 with 0 Axes>"
      ]
     },
     "metadata": {},
     "output_type": "display_data"
    },
    {
     "data": {
      "image/png": "[encoded data removed]",
      "text/plain": [
       "<Figure size 432x288 with 1 Axes>"
      ]
     },
     "metadata": {},
     "output_type": "display_data"
    },
    {
     "data": {
      "text/plain": [
       "<Figure size 576x576 with 0 Axes>"
      ]
     },
     "metadata": {},
     "output_type": "display_data"
    },
    {
     "data": {
      "image/png": "[encoded data removed]",
      "text/plain": [
       "<Figure size 432x288 with 1 Axes>"
      ]
     },
     "metadata": {},
     "output_type": "display_data"
    },
    {
     "data": {
      "text/plain": [
       "<Figure size 576x576 with 0 Axes>"
      ]
     },
     "metadata": {},
     "output_type": "display_data"
    },
    {
     "data": {
      "image/png": "[encoded data removed]",
      "text/plain": [
       "<Figure size 432x288 with 1 Axes>"
      ]
     },
     "metadata": {},
     "output_type": "display_data"
    }
   ],
   "source": [
    "features = list(df)\n",
    "features.remove('winpercent')\n",
    "for col in list(features):\n",
    "    plt.figure(figsize=(8,8))\n",
    "    plt.subplots()\n",
    "    sns.scatterplot(x=df['winpercent'],y=df[col])\n",
    "    "
   ]
  },
  {
   "cell_type": "markdown",
   "metadata": {},
   "source": [
    "- From these charts we can observe the linear relationship between the dependent variable and the independent variables"
   ]
  },
  {
   "cell_type": "markdown",
   "metadata": {},
   "source": [
    "#### 4. Homoscedasticity "
   ]
  },
  {
   "cell_type": "markdown",
   "metadata": {},
   "source": [
    "- As the previous 3 conditions are satisfied, we can assume that this condition is also satisfied"
   ]
  },
  {
   "cell_type": "markdown",
   "metadata": {},
   "source": [
    "### Splitting the data into Training Data and Testing Data"
   ]
  },
  {
   "cell_type": "code",
   "execution_count": 161,
   "metadata": {},
   "outputs": [
    {
     "data": {
      "text/html": [
       "<div>\n",
       "<style scoped>\n",
       "    .dataframe tbody tr th:only-of-type {\n",
       "        vertical-align: middle;\n",
       "    }\n",
       "\n",
       "    .dataframe tbody tr th {\n",
       "        vertical-align: top;\n",
       "    }\n",
       "\n",
       "    .dataframe thead th {\n",
       "        text-align: right;\n",
       "    }\n",
       "</style>\n",
       "<table border=\"1\" class=\"dataframe\">\n",
       "  <thead>\n",
       "    <tr style=\"text-align: right;\">\n",
       "      <th></th>\n",
       "      <th>chocolate</th>\n",
       "      <th>fruity</th>\n",
       "      <th>caramel</th>\n",
       "      <th>peanutyalmondy</th>\n",
       "      <th>nougat</th>\n",
       "      <th>crispedricewafer</th>\n",
       "      <th>hard</th>\n",
       "      <th>bar</th>\n",
       "      <th>pluribus</th>\n",
       "      <th>sugarpercent</th>\n",
       "      <th>pricepercent</th>\n",
       "    </tr>\n",
       "  </thead>\n",
       "  <tbody>\n",
       "    <tr>\n",
       "      <th>0</th>\n",
       "      <td>1</td>\n",
       "      <td>0</td>\n",
       "      <td>1</td>\n",
       "      <td>0</td>\n",
       "      <td>0</td>\n",
       "      <td>1</td>\n",
       "      <td>0</td>\n",
       "      <td>1</td>\n",
       "      <td>0</td>\n",
       "      <td>0.732</td>\n",
       "      <td>0.860</td>\n",
       "    </tr>\n",
       "    <tr>\n",
       "      <th>1</th>\n",
       "      <td>1</td>\n",
       "      <td>0</td>\n",
       "      <td>0</td>\n",
       "      <td>0</td>\n",
       "      <td>1</td>\n",
       "      <td>0</td>\n",
       "      <td>0</td>\n",
       "      <td>1</td>\n",
       "      <td>0</td>\n",
       "      <td>0.604</td>\n",
       "      <td>0.511</td>\n",
       "    </tr>\n",
       "    <tr>\n",
       "      <th>2</th>\n",
       "      <td>0</td>\n",
       "      <td>0</td>\n",
       "      <td>0</td>\n",
       "      <td>0</td>\n",
       "      <td>0</td>\n",
       "      <td>0</td>\n",
       "      <td>0</td>\n",
       "      <td>0</td>\n",
       "      <td>0</td>\n",
       "      <td>0.011</td>\n",
       "      <td>0.116</td>\n",
       "    </tr>\n",
       "    <tr>\n",
       "      <th>3</th>\n",
       "      <td>0</td>\n",
       "      <td>0</td>\n",
       "      <td>0</td>\n",
       "      <td>0</td>\n",
       "      <td>0</td>\n",
       "      <td>0</td>\n",
       "      <td>0</td>\n",
       "      <td>0</td>\n",
       "      <td>0</td>\n",
       "      <td>0.011</td>\n",
       "      <td>0.511</td>\n",
       "    </tr>\n",
       "    <tr>\n",
       "      <th>4</th>\n",
       "      <td>0</td>\n",
       "      <td>1</td>\n",
       "      <td>0</td>\n",
       "      <td>0</td>\n",
       "      <td>0</td>\n",
       "      <td>0</td>\n",
       "      <td>0</td>\n",
       "      <td>0</td>\n",
       "      <td>0</td>\n",
       "      <td>0.906</td>\n",
       "      <td>0.511</td>\n",
       "    </tr>\n",
       "  </tbody>\n",
       "</table>\n",
       "</div>"
      ],
      "text/plain": [
       "   chocolate  fruity  caramel  peanutyalmondy  nougat  crispedricewafer  hard  \\\n",
       "0          1       0        1               0       0                 1     0   \n",
       "1          1       0        0               0       1                 0     0   \n",
       "2          0       0        0               0       0                 0     0   \n",
       "3          0       0        0               0       0                 0     0   \n",
       "4          0       1        0               0       0                 0     0   \n",
       "\n",
       "   bar  pluribus  sugarpercent  pricepercent  \n",
       "0    1         0         0.732         0.860  \n",
       "1    1         0         0.604         0.511  \n",
       "2    0         0         0.011         0.116  \n",
       "3    0         0         0.011         0.511  \n",
       "4    0         0         0.906         0.511  "
      ]
     },
     "execution_count": 161,
     "metadata": {},
     "output_type": "execute_result"
    }
   ],
   "source": [
    "X = df[features]\n",
    "X.head()"
   ]
  },
  {
   "cell_type": "code",
   "execution_count": 162,
   "metadata": {},
   "outputs": [
    {
     "data": {
      "text/plain": [
       "0    66.971725\n",
       "1    67.602936\n",
       "2    32.261086\n",
       "3    46.116505\n",
       "4    52.341465\n",
       "Name: winpercent, dtype: float64"
      ]
     },
     "execution_count": 162,
     "metadata": {},
     "output_type": "execute_result"
    }
   ],
   "source": [
    "y = df['winpercent']\n",
    "y.head()"
   ]
  },
  {
   "cell_type": "code",
   "execution_count": 163,
   "metadata": {
    "scrolled": true
   },
   "outputs": [
    {
     "name": "stdout",
     "output_type": "stream",
     "text": [
      "Shape of X is : (85, 11)\n",
      "Shape of y is : (85,)\n"
     ]
    }
   ],
   "source": [
    "print('Shape of X is :', X.shape)\n",
    "print('Shape of y is :',y.shape)"
   ]
  },
  {
   "cell_type": "markdown",
   "metadata": {},
   "source": [
    "#### Splitting the Data"
   ]
  },
  {
   "cell_type": "code",
   "execution_count": 231,
   "metadata": {},
   "outputs": [],
   "source": [
    "#splitting the data into 65% train and 35% test\n",
    "\n",
    "from sklearn.model_selection import train_test_split\n",
    "\n",
    "def split(X,y):\n",
    "    return train_test_split(X,y, test_size=0.35, random_state=1)\n",
    "\n",
    "X_train, X_test, y_train, y_test=split(X,y)\n"
   ]
  },
  {
   "cell_type": "markdown",
   "metadata": {},
   "source": [
    "#### Scaling the Data"
   ]
  },
  {
   "cell_type": "code",
   "execution_count": 232,
   "metadata": {},
   "outputs": [],
   "source": [
    "#Scaling the X part of data\n",
    "from sklearn.preprocessing import StandardScaler\n",
    "scalar=StandardScaler() # defining object\n",
    "scalar.fit(X_train) #defining the scal\n",
    "X_train_s=scalar.transform(X_train)#actual scaling\n",
    "X_test_s=scalar.transform(X_test)\n"
   ]
  },
  {
   "cell_type": "markdown",
   "metadata": {},
   "source": [
    "## Performing Linear Regression"
   ]
  },
  {
   "cell_type": "markdown",
   "metadata": {},
   "source": [
    "#### Model 1"
   ]
  },
  {
   "cell_type": "code",
   "execution_count": 255,
   "metadata": {},
   "outputs": [],
   "source": [
    "from sklearn.linear_model import LinearRegression\n",
    "linreg=LinearRegression()\n",
    "linreg.fit(X_train_s, y_train) #calculates B0 and B1\n",
    "y_pred_train_lg=linreg.predict(X_train_s)\n",
    "y_pred_test_lg=linreg.predict(X_test_s)"
   ]
  },
  {
   "cell_type": "markdown",
   "metadata": {},
   "source": [
    "#### RMSE"
   ]
  },
  {
   "cell_type": "code",
   "execution_count": 256,
   "metadata": {},
   "outputs": [
    {
     "name": "stdout",
     "output_type": "stream",
     "text": [
      "the Root Mean Squared Error for Train data is  : 8.969542735091014\n"
     ]
    }
   ],
   "source": [
    "from sklearn import metrics\n",
    "RMSE_train_lg=np.sqrt(metrics.mean_squared_error(y_train,y_pred_train_lg))\n",
    "print('the Root Mean Squared Error for Train data is  :',RMSE_train_lg)"
   ]
  },
  {
   "cell_type": "code",
   "execution_count": 257,
   "metadata": {},
   "outputs": [
    {
     "name": "stdout",
     "output_type": "stream",
     "text": [
      "the Root Mean Squared Error for Test data is  : 13.17503978784296\n"
     ]
    }
   ],
   "source": [
    "from sklearn import metrics\n",
    "RMSE_test_lg=np.sqrt(metrics.mean_squared_error(y_test,y_pred_test_lg))\n",
    "print('the Root Mean Squared Error for Test data is  :',RMSE_test_lg)"
   ]
  },
  {
   "cell_type": "markdown",
   "metadata": {},
   "source": [
    "#### R Square"
   ]
  },
  {
   "cell_type": "code",
   "execution_count": 258,
   "metadata": {},
   "outputs": [
    {
     "name": "stdout",
     "output_type": "stream",
     "text": [
      "The R-square value for Train dataset is  : 0.6207427776394239\n"
     ]
    }
   ],
   "source": [
    "from sklearn.metrics import r2_score\n",
    "r2_train_lg=r2_score(y_train, y_pred_train_lg)\n",
    "print('The R-square value for Train dataset is  :', r2_train_lg)"
   ]
  },
  {
   "cell_type": "code",
   "execution_count": 259,
   "metadata": {},
   "outputs": [
    {
     "name": "stdout",
     "output_type": "stream",
     "text": [
      "The R-square value for Test dataset is  : 0.17389275824947392\n"
     ]
    }
   ],
   "source": [
    "from sklearn.metrics import r2_score\n",
    "r2_test_lg=r2_score(y_test, y_pred_test_lg)\n",
    "print('The R-square value for Test dataset is  :', r2_test_lg)"
   ]
  },
  {
   "cell_type": "markdown",
   "metadata": {},
   "source": [
    "#### Adjusted R Square"
   ]
  },
  {
   "cell_type": "markdown",
   "metadata": {},
   "source": [
    "Let us develop a ```Function``` to calculate the Adjusted R square so that we can call the function anytime during the program\n"
   ]
  },
  {
   "cell_type": "code",
   "execution_count": 238,
   "metadata": {},
   "outputs": [],
   "source": [
    "def Adjusted_r2(r_square,N): #creating function so that we can call the function again and again\n",
    "    return(1-(((1-r_square)*(N-1))/(N-11)))"
   ]
  },
  {
   "cell_type": "code",
   "execution_count": 260,
   "metadata": {},
   "outputs": [
    {
     "name": "stdout",
     "output_type": "stream",
     "text": [
      "The Adjusted R-square of Linear Regression Train Dataset is : 0.5345479543756566\n",
      "The Adjusted R-square of Linear Regression Test Dataset is : -0.26090052688238186\n"
     ]
    }
   ],
   "source": [
    "adj_r2_train=Adjusted_r2(r2_train_lg,len(X_train))\n",
    "print('The Adjusted R-square of Linear Regression Train Dataset is :', adj_r2_train)\n",
    "adj_r2_test=Adjusted_r2(r2_test_lg,len(X_test))\n",
    "print('The Adjusted R-square of Linear Regression Test Dataset is :', adj_r2_test)"
   ]
  },
  {
   "cell_type": "markdown",
   "metadata": {},
   "source": [
    "\n",
    "After evaluating this model, we have the following results:\n",
    "\n",
    "|RMSE Score Train||RMSE Score Test ||R-square Value Train||R-square Value Test|| Adjusted R-squared Value Train||Adjusted R-squared Value Test|\n",
    "|------------||-------------||------||-------------||-----------||---------|\n",
    "| 8.9695     ||13.1750      ||0.6207||0.1739|| 0.5345||   -0.2609|\n"
   ]
  },
  {
   "cell_type": "markdown",
   "metadata": {},
   "source": [
    "## Decision Tree"
   ]
  },
  {
   "cell_type": "markdown",
   "metadata": {},
   "source": [
    "### Decision Tree Model 1"
   ]
  },
  {
   "cell_type": "code",
   "execution_count": 261,
   "metadata": {},
   "outputs": [],
   "source": [
    "from sklearn.tree import DecisionTreeRegressor\n",
    "model = DecisionTreeRegressor(criterion='mse')\n",
    "model.fit(X_train_s, y_train)\n",
    "y_train_pred_dt=model.predict(X_train_s)\n",
    "y_test_pred_dt=model.predict(X_test_s)"
   ]
  },
  {
   "cell_type": "markdown",
   "metadata": {},
   "source": [
    "#### RMSE"
   ]
  },
  {
   "cell_type": "code",
   "execution_count": 262,
   "metadata": {},
   "outputs": [
    {
     "name": "stdout",
     "output_type": "stream",
     "text": [
      "The RMSE Value of Train Dataset for Simple Decision Tree Model is  : 1.5783596854821103\n"
     ]
    }
   ],
   "source": [
    "RMSE_train_dt=np.sqrt(metrics.mean_squared_error(y_train,y_train_pred_dt))\n",
    "print('The RMSE Value of Train Dataset for Simple Decision Tree Model is  :',RMSE_train_dt)"
   ]
  },
  {
   "cell_type": "code",
   "execution_count": 263,
   "metadata": {},
   "outputs": [
    {
     "name": "stdout",
     "output_type": "stream",
     "text": [
      "The RMSE Value of Test Dataset for Simple Decision Tree Model is  : 12.764627127562381\n"
     ]
    }
   ],
   "source": [
    "RMSE_test_dt=np.sqrt(metrics.mean_squared_error(y_test,y_test_pred_dt))\n",
    "print('The RMSE Value of Test Dataset for Simple Decision Tree Model is  :',RMSE_test_dt)"
   ]
  },
  {
   "cell_type": "markdown",
   "metadata": {},
   "source": [
    "#### R Square "
   ]
  },
  {
   "cell_type": "code",
   "execution_count": 264,
   "metadata": {},
   "outputs": [
    {
     "name": "stdout",
     "output_type": "stream",
     "text": [
      "The R-square value for Train Data of simple Decision Tree Model is : 0.9882562928595504\n"
     ]
    }
   ],
   "source": [
    "from sklearn.metrics import r2_score\n",
    "r2_dt_train=r2_score(y_train, y_train_pred_dt)\n",
    "print('The R-square value for Train Data of simple Decision Tree Model is :', r2_dt_train)"
   ]
  },
  {
   "cell_type": "code",
   "execution_count": 267,
   "metadata": {},
   "outputs": [
    {
     "name": "stdout",
     "output_type": "stream",
     "text": [
      "The R-square value for Test Data of simple Decision Tree Model is : 0.2245588847140787\n"
     ]
    }
   ],
   "source": [
    "from sklearn.metrics import r2_score\n",
    "r2_dt_test=r2_score(y_test, y_test_pred_dt)\n",
    "print('The R-square value for Test Data of simple Decision Tree Model is :', r2_dt_test)"
   ]
  },
  {
   "cell_type": "markdown",
   "metadata": {},
   "source": [
    "#### Adjusted R Sqaure"
   ]
  },
  {
   "cell_type": "code",
   "execution_count": 268,
   "metadata": {},
   "outputs": [
    {
     "name": "stdout",
     "output_type": "stream",
     "text": [
      "The Adjusted R-square of Decision Tree first model Train Dataset is : 0.9855872685094482\n",
      "The Adjusted R-square of Decision Tree first model Test Dataset is : -0.18356801806798528\n"
     ]
    }
   ],
   "source": [
    "adj_r2_train=Adjusted_r2(r2_dt_train,len(X_train))\n",
    "print('The Adjusted R-square of Decision Tree first model Train Dataset is :', adj_r2_train)\n",
    "adj_r2_test=Adjusted_r2(r2_dt_test,len(X_test))\n",
    "print('The Adjusted R-square of Decision Tree first model Test Dataset is :', adj_r2_test)"
   ]
  },
  {
   "cell_type": "markdown",
   "metadata": {},
   "source": [
    "### Decision Tree Model 2"
   ]
  },
  {
   "cell_type": "code",
   "execution_count": 269,
   "metadata": {},
   "outputs": [],
   "source": [
    "from sklearn.tree import DecisionTreeRegressor\n",
    "model2 = DecisionTreeRegressor( criterion='mse', max_depth=7,\n",
    "                               max_features=None, max_leaf_nodes=None,\n",
    "                               min_impurity_decrease=0.0, min_impurity_split=None,\n",
    "                               min_samples_leaf=1, min_samples_split=2,\n",
    "                               min_weight_fraction_leaf=0.0, presort=False,\n",
    "                               random_state=None, splitter='best')\n",
    "model2.fit(X_train_s, y_train)\n",
    "y_train_pred_dt_m2=model2.predict(X_train_s)\n",
    "y_test_pred_dt_m2=model2.predict(X_test_s)\n"
   ]
  },
  {
   "cell_type": "markdown",
   "metadata": {},
   "source": [
    "#### RMSE"
   ]
  },
  {
   "cell_type": "code",
   "execution_count": 270,
   "metadata": {
    "scrolled": true
   },
   "outputs": [
    {
     "name": "stdout",
     "output_type": "stream",
     "text": [
      "The RMSE score of Train Dataset of Decision Tree Model 2 is : 2.5647425050250607\n",
      "The RMSE score of Test Dataset of Decision Tree Model 2 is : 12.643751085061714\n"
     ]
    }
   ],
   "source": [
    "RMSE_train_dt_m2=np.sqrt(metrics.mean_squared_error(y_train,y_train_pred_dt_m2))\n",
    "print('The RMSE score of Train Dataset of Decision Tree Model 2 is :',RMSE_train_dt_m2)\n",
    "RMSE_test_dt_m2=np.sqrt(metrics.mean_squared_error(y_test,y_test_pred_dt_m2))\n",
    "print('The RMSE score of Test Dataset of Decision Tree Model 2 is :',RMSE_test_dt_m2)"
   ]
  },
  {
   "cell_type": "markdown",
   "metadata": {},
   "source": [
    "#### R Square"
   ]
  },
  {
   "cell_type": "code",
   "execution_count": 271,
   "metadata": {},
   "outputs": [
    {
     "name": "stdout",
     "output_type": "stream",
     "text": [
      "The R-square value of Train Dataset of Decision Tree Model 2 is : 0.9689914975973458\n",
      "The R-square value of Test Dataset of Decision Tree Model 2 is : 0.23917559828166013\n"
     ]
    }
   ],
   "source": [
    "r2_dt_m2_train=r2_score(y_train, y_train_pred_dt_m2)\n",
    "print('The R-square value of Train Dataset of Decision Tree Model 2 is :',r2_dt_m2_train)\n",
    "r2_dt_m2_test=r2_score(y_test, y_test_pred_dt_m2)\n",
    "print('The R-square value of Test Dataset of Decision Tree Model 2 is :',r2_dt_m2_test)"
   ]
  },
  {
   "cell_type": "markdown",
   "metadata": {},
   "source": [
    "#### Adjusted R Square"
   ]
  },
  {
   "cell_type": "code",
   "execution_count": 272,
   "metadata": {
    "scrolled": true
   },
   "outputs": [
    {
     "name": "stdout",
     "output_type": "stream",
     "text": [
      "The Adjusted R-square of Decisiom Tree Train Dataset for the second model is : 0.9619441106876517\n",
      "The Adjusted R-square of Decision Tree Test Dataset for the second model is : -0.1612582973595713\n"
     ]
    }
   ],
   "source": [
    "adj_r2_train=Adjusted_r2(r2_dt_m2_train,len(X_train))\n",
    "print('The Adjusted R-square of Decisiom Tree Train Dataset for the second model is :', adj_r2_train)\n",
    "adj_r2_test=Adjusted_r2(r2_dt_m2_test,len(X_test))\n",
    "print('The Adjusted R-square of Decision Tree Test Dataset for the second model is :', adj_r2_test)"
   ]
  },
  {
   "cell_type": "markdown",
   "metadata": {},
   "source": [
    "#### GridSearchCV"
   ]
  },
  {
   "cell_type": "code",
   "execution_count": 273,
   "metadata": {},
   "outputs": [
    {
     "data": {
      "text/plain": [
       "GridSearchCV(cv=10, estimator=DecisionTreeRegressor(random_state=0),\n",
       "             param_grid=[{'max_depth': [2, 3, 4, 5, 6, 7, 8, 9, 10, 11, 12, 13,\n",
       "                                        14, 15, 16, 17, 18, 19, 20, 21, 22, 23,\n",
       "                                        24, 25, 26, 27, 28, 29, 30, 31, ...],\n",
       "                          'max_features': ['auto', 'log2'],\n",
       "                          'splitter': ['best', 'random']}],\n",
       "             refit='AUC')"
      ]
     },
     "execution_count": 273,
     "metadata": {},
     "output_type": "execute_result"
    }
   ],
   "source": [
    "from sklearn.tree import DecisionTreeRegressor\n",
    "from sklearn.model_selection import GridSearchCV\n",
    "\n",
    "decision_tree_regressor= DecisionTreeRegressor(random_state = 0)\n",
    "\n",
    "max_depth = list(range(2, 60))\n",
    "max_depth.append('None')\n",
    "\n",
    "tree_para = [{'max_depth': max_depth,\n",
    "              'splitter' : [\"best\", \"random\"],\n",
    "              'max_features': [\"auto\", \"log2\"] }]\n",
    "                            \n",
    "                            \n",
    "\n",
    "grid_search = GridSearchCV(decision_tree_regressor,tree_para, cv=10, refit='AUC')\n",
    "grid_search.fit(X_train_s, y_train)"
   ]
  },
  {
   "cell_type": "code",
   "execution_count": 274,
   "metadata": {},
   "outputs": [],
   "source": [
    "model3 = grid_search.best_estimator_"
   ]
  },
  {
   "cell_type": "code",
   "execution_count": 275,
   "metadata": {},
   "outputs": [],
   "source": [
    "y_train_pred_dt3 = model3.predict(X_train_s)\n",
    "y_test_pred_dt3 = model3.predict(X_test_s)"
   ]
  },
  {
   "cell_type": "markdown",
   "metadata": {},
   "source": [
    "#### RMSE"
   ]
  },
  {
   "cell_type": "code",
   "execution_count": 276,
   "metadata": {},
   "outputs": [
    {
     "name": "stdout",
     "output_type": "stream",
     "text": [
      "The RMSE value of Train dataset for Decision Tree Grid Search Model is : 5.976480625884135\n",
      "The RMSE value of Test dataset for Decision Tree Grid Search Model is : 14.097454558664001\n"
     ]
    }
   ],
   "source": [
    "RMSE_train_dt_m3=np.sqrt(metrics.mean_squared_error(y_train,y_train_pred_dt3))\n",
    "print('The RMSE value of Train dataset for Decision Tree Grid Search Model is :',RMSE_train_dt_m3)\n",
    "RMSE_test_dt_m3=np.sqrt(metrics.mean_squared_error(y_test,y_test_pred_dt3))\n",
    "print('The RMSE value of Test dataset for Decision Tree Grid Search Model is :',RMSE_test_dt_m3)"
   ]
  },
  {
   "cell_type": "markdown",
   "metadata": {},
   "source": [
    "#### R-squared"
   ]
  },
  {
   "cell_type": "code",
   "execution_count": 277,
   "metadata": {},
   "outputs": [
    {
     "name": "stdout",
     "output_type": "stream",
     "text": [
      "The R-square value of Train dataset for Decision Tree Grid Search Model is : 0.8316224115388307\n",
      "The R-square value of Test dataset for Decision Tree Grid Search Model is : 0.05416808303298848\n"
     ]
    }
   ],
   "source": [
    "r2_m3_train=r2_score(y_train, y_train_pred_dt3)\n",
    "print('The R-square value of Train dataset for Decision Tree Grid Search Model is :',r2_m3_train)\n",
    "r2_m3_test=r2_score(y_test, y_test_pred_dt3)\n",
    "print('The R-square value of Test dataset for Decision Tree Grid Search Model is :',r2_m3_test)"
   ]
  },
  {
   "cell_type": "markdown",
   "metadata": {},
   "source": [
    "### Adjusted R Square"
   ]
  },
  {
   "cell_type": "code",
   "execution_count": 278,
   "metadata": {},
   "outputs": [
    {
     "name": "stdout",
     "output_type": "stream",
     "text": [
      "The Adjusted R-square of Decision Tree GridSearch model Train Dataset for the second model is : 0.7933547777976557\n",
      "The Adjusted R-square of Decision Tree Test GridSearch model Test Dataset for the second model is : -0.44363818905491237\n"
     ]
    }
   ],
   "source": [
    "adj_r2_train=Adjusted_r2(r2_m3_train,len(X_train))\n",
    "print('The Adjusted R-square of Decision Tree GridSearch model Train Dataset for the second model is :', adj_r2_train)\n",
    "adj_r2_test=Adjusted_r2(r2_m3_test,len(X_test))\n",
    "print('The Adjusted R-square of Decision Tree Test GridSearch model Test Dataset for the second model is :', adj_r2_test)"
   ]
  },
  {
   "cell_type": "markdown",
   "metadata": {},
   "source": [
    "#### Summary of Decision Tree"
   ]
  },
  {
   "cell_type": "markdown",
   "metadata": {},
   "source": [
    "|Model Name||RMSE Score Train||RMSE Score Test ||R-square Value Train||R-square Value Test||Adjusted R-squared Train||Adjusted R-square Test|\n",
    "|---------||------------||-------------||------||-------------||--------||--------|\n",
    "|Decision Tree Model-1|| 1.5714  ||12.7646|| 0.9883   ||0.2246||0.9856||-0.1835|\n",
    "|Decision Tree Model-2|| 2.5674 ||12.6437|| 0.9690   ||0.2392||0.9619||-0.1613|\n",
    "|GridSearchCV Model|| 5.9765 ||14.0975||  0.8316  ||0.5417|| 0.7933||-0.4436|"
   ]
  },
  {
   "cell_type": "markdown",
   "metadata": {},
   "source": [
    "## Random Forest Regressor"
   ]
  },
  {
   "cell_type": "markdown",
   "metadata": {},
   "source": [
    "Developing and understanding few models under Random Forest to check if we can get better models"
   ]
  },
  {
   "cell_type": "markdown",
   "metadata": {},
   "source": [
    "#### Random Forest Model 1"
   ]
  },
  {
   "cell_type": "code",
   "execution_count": 280,
   "metadata": {},
   "outputs": [],
   "source": [
    "from sklearn.ensemble import RandomForestRegressor\n",
    "model_rf1 = RandomForestRegressor(random_state = 0)\n",
    "model_rf1.fit(X_train_s, y_train)\n",
    "y_pred_train_rf1 = model_rf1.predict(X_train_s)\n",
    "y_pred_test_rf1 = model_rf1.predict(X_test_s)"
   ]
  },
  {
   "cell_type": "markdown",
   "metadata": {},
   "source": [
    "#### RMSE"
   ]
  },
  {
   "cell_type": "code",
   "execution_count": 281,
   "metadata": {},
   "outputs": [
    {
     "name": "stdout",
     "output_type": "stream",
     "text": [
      "RMSE of Random Forest Model 1 for train dataset :  4.438226775815669\n",
      "RMSE of Random Forest Model 1 for test dataset :  12.653376266763619\n"
     ]
    }
   ],
   "source": [
    "RMSE_train_rf1=np.sqrt(metrics.mean_squared_error(y_train,y_pred_train_rf1))\n",
    "RMSE_test_rf1=np.sqrt(metrics.mean_squared_error(y_test,y_pred_test_rf1))\n",
    "print('RMSE of Random Forest Model 1 for train dataset : ',RMSE_train_rf1)\n",
    "print('RMSE of Random Forest Model 1 for test dataset : ',RMSE_test_rf1)"
   ]
  },
  {
   "cell_type": "markdown",
   "metadata": {},
   "source": [
    "#### R Squared"
   ]
  },
  {
   "cell_type": "code",
   "execution_count": 282,
   "metadata": {},
   "outputs": [
    {
     "name": "stdout",
     "output_type": "stream",
     "text": [
      "The R-square Value of train dataset of Simple Random Forest Model is : 0.9071435167555438\n",
      "The R-square Value of test dataset of Simple Random Forest Model is : 0.2380167870330453\n"
     ]
    }
   ],
   "source": [
    "from sklearn.metrics import r2_score\n",
    "r2_rf1_train=r2_score(y_train, y_pred_train_rf1)\n",
    "r2_rf1_test=r2_score(y_test, y_pred_test_rf1)\n",
    "print('The R-square Value of train dataset of Simple Random Forest Model is :',r2_rf1_train)\n",
    "print('The R-square Value of test dataset of Simple Random Forest Model is :',r2_rf1_test)\n"
   ]
  },
  {
   "cell_type": "markdown",
   "metadata": {},
   "source": [
    "#### Adjusted R-squared"
   ]
  },
  {
   "cell_type": "code",
   "execution_count": 283,
   "metadata": {},
   "outputs": [
    {
     "name": "stdout",
     "output_type": "stream",
     "text": [
      "The Adjusted R-square of Random Forest Train Dataset for the first model is : 0.886039770563622\n",
      "The Adjusted R-square of Random Forest Test Dataset for the first model is : -0.16302700926535185\n"
     ]
    }
   ],
   "source": [
    "adj_r2_train=Adjusted_r2(r2_rf1_train,len(X_train))\n",
    "print('The Adjusted R-square of Random Forest Train Dataset for the first model is :', adj_r2_train)\n",
    "adj_r2_test=Adjusted_r2(r2_rf1_test,len(X_test))\n",
    "print('The Adjusted R-square of Random Forest Test Dataset for the first model is :', adj_r2_test)"
   ]
  },
  {
   "cell_type": "markdown",
   "metadata": {},
   "source": [
    "#### Random Forest Model 2"
   ]
  },
  {
   "cell_type": "code",
   "execution_count": 284,
   "metadata": {},
   "outputs": [],
   "source": [
    "model_rf2 = RandomForestRegressor(random_state = 0,\n",
    "                                n_estimators = 15,\n",
    "                                min_samples_split = 2,\n",
    "                                min_samples_leaf = 1)\n",
    "\n",
    "model_rf2.fit(X_train_s, y_train)\n",
    "y_pred_train_rf2 = model_rf2.predict(X_train_s)\n",
    "y_pred_test_rf2 = model_rf2.predict(X_test_s)"
   ]
  },
  {
   "cell_type": "markdown",
   "metadata": {},
   "source": [
    "#### RMSE"
   ]
  },
  {
   "cell_type": "code",
   "execution_count": 285,
   "metadata": {},
   "outputs": [
    {
     "name": "stdout",
     "output_type": "stream",
     "text": [
      "RMSE value of Random Forest model 2 for train dataset is :  4.976519124951695\n",
      "RMSE value of Random Forest model 2 for test dataset is :  12.842068174682412\n"
     ]
    }
   ],
   "source": [
    "from sklearn import metrics\n",
    "RMSE_train_rf2=np.sqrt(metrics.mean_squared_error(y_train,y_pred_train_rf2))\n",
    "RMSE_test_rf2=np.sqrt(metrics.mean_squared_error(y_test,y_pred_test_rf2))\n",
    "print('RMSE value of Random Forest model 2 for train dataset is : ',RMSE_train_rf2)\n",
    "print('RMSE value of Random Forest model 2 for test dataset is : ',RMSE_test_rf2)"
   ]
  },
  {
   "cell_type": "markdown",
   "metadata": {},
   "source": [
    "#### R Squared"
   ]
  },
  {
   "cell_type": "code",
   "execution_count": 286,
   "metadata": {},
   "outputs": [
    {
     "name": "stdout",
     "output_type": "stream",
     "text": [
      "The R-square value of train dataset of Random Forest 2nd Model is : 0.8832533014653345\n",
      "The R-square value of test dataset of Random Forest 2nd Model is : 0.21512137723462554\n"
     ]
    }
   ],
   "source": [
    "from sklearn.metrics import r2_score\n",
    "r2_rf2_train=r2_score(y_train, y_pred_train_rf2)\n",
    "r2_rf2_test=r2_score(y_test, y_pred_test_rf2)\n",
    "print('The R-square value of train dataset of Random Forest 2nd Model is :',r2_rf2_train)\n",
    "print('The R-square value of test dataset of Random Forest 2nd Model is :',r2_rf2_test)"
   ]
  },
  {
   "cell_type": "markdown",
   "metadata": {},
   "source": [
    "#### Adjusted R Square "
   ]
  },
  {
   "cell_type": "code",
   "execution_count": 287,
   "metadata": {},
   "outputs": [
    {
     "name": "stdout",
     "output_type": "stream",
     "text": [
      "The Adjusted R-square of Random Forest Train Dataset for the second model is : 0.8567199608892742\n",
      "The Adjusted R-square of Random Forest Test Dataset for the second model is : -0.19797263474715043\n"
     ]
    }
   ],
   "source": [
    "adj_r2_train=Adjusted_r2(r2_rf2_train,len(X_train))\n",
    "print('The Adjusted R-square of Random Forest Train Dataset for the second model is :', adj_r2_train)\n",
    "adj_r2_test=Adjusted_r2(r2_rf2_test,len(X_test))\n",
    "print('The Adjusted R-square of Random Forest Test Dataset for the second model is :', adj_r2_test)"
   ]
  },
  {
   "cell_type": "markdown",
   "metadata": {},
   "source": [
    "#### RandomizedSearchCV"
   ]
  },
  {
   "cell_type": "code",
   "execution_count": 288,
   "metadata": {},
   "outputs": [],
   "source": [
    "from sklearn.model_selection import RandomizedSearchCV\n",
    "from scipy.stats import randint as sp_randint\n",
    "# parameters for GridSearchCV\n",
    "\n",
    "max_depth = list(range(2, 60))\n",
    "max_depth.append('None')\n",
    "\n",
    "# specify parameters and distributions to sample from\n",
    "param_dist = {\"max_depth\": max_depth,\n",
    "              \"min_samples_split\": sp_randint(2, 11),\n",
    "              \"min_samples_leaf\": sp_randint(1, 11),\n",
    "              \"n_estimators\": [100, 400, 700, 1000, 1500],\n",
    "              'max_features': [\"auto\", \"log2\"]\n",
    "             }\n",
    "# run randomized search\n",
    "n_iter_search = 50\n",
    "random_search = RandomizedSearchCV(model_rf1, param_distributions = param_dist,\n",
    "                                   n_iter = n_iter_search,\n",
    "                                   n_jobs = -1)"
   ]
  },
  {
   "cell_type": "code",
   "execution_count": 289,
   "metadata": {},
   "outputs": [
    {
     "data": {
      "text/plain": [
       "RandomizedSearchCV(estimator=RandomForestRegressor(random_state=0), n_iter=50,\n",
       "                   n_jobs=-1,\n",
       "                   param_distributions={'max_depth': [2, 3, 4, 5, 6, 7, 8, 9,\n",
       "                                                      10, 11, 12, 13, 14, 15,\n",
       "                                                      16, 17, 18, 19, 20, 21,\n",
       "                                                      22, 23, 24, 25, 26, 27,\n",
       "                                                      28, 29, 30, 31, ...],\n",
       "                                        'max_features': ['auto', 'log2'],\n",
       "                                        'min_samples_leaf': <scipy.stats._distn_infrastructure.rv_frozen object at 0x0000017002E328E0>,\n",
       "                                        'min_samples_split': <scipy.stats._distn_infrastructure.rv_frozen object at 0x0000017002E32CD0>,\n",
       "                                        'n_estimators': [100, 400, 700, 1000,\n",
       "                                                         1500]})"
      ]
     },
     "execution_count": 289,
     "metadata": {},
     "output_type": "execute_result"
    }
   ],
   "source": [
    "random_search.fit(X_train_s, y_train)"
   ]
  },
  {
   "cell_type": "code",
   "execution_count": 295,
   "metadata": {},
   "outputs": [],
   "source": [
    "model_rf3 = random_search.best_estimator_"
   ]
  },
  {
   "cell_type": "code",
   "execution_count": 296,
   "metadata": {},
   "outputs": [],
   "source": [
    "y_pred_test_rf3 = model_rf3.predict(X_test_s)\n",
    "y_pred_train_rf3=model_rf3.predict(X_train_s)"
   ]
  },
  {
   "cell_type": "markdown",
   "metadata": {},
   "source": [
    "#### RMSE"
   ]
  },
  {
   "cell_type": "code",
   "execution_count": 297,
   "metadata": {},
   "outputs": [
    {
     "name": "stdout",
     "output_type": "stream",
     "text": [
      "RMSE value of Random Forest model 3 for train dataset is :  8.24900414419913\n",
      "RMSE value of Random Forest model 3 for test dataset is :  12.026218692081603\n"
     ]
    }
   ],
   "source": [
    "RMSE_train_rf3=np.sqrt(metrics.mean_squared_error(y_train,y_pred_train_rf3))\n",
    "RMSE_test_rf3=np.sqrt(metrics.mean_squared_error(y_test,y_pred_test_rf3))\n",
    "print('RMSE value of Random Forest model 3 for train dataset is : ',RMSE_train_rf3)\n",
    "print('RMSE value of Random Forest model 3 for test dataset is : ',RMSE_test_rf3)"
   ]
  },
  {
   "cell_type": "markdown",
   "metadata": {},
   "source": [
    "#### R Square "
   ]
  },
  {
   "cell_type": "code",
   "execution_count": 298,
   "metadata": {},
   "outputs": [
    {
     "name": "stdout",
     "output_type": "stream",
     "text": [
      "The R-square Value of train dataset of Random Forest 3rd Model is : 0.6792281146052621\n",
      "The R-square Value of test dataset of Random Forest 3rd Model is : 0.31167942340870114\n"
     ]
    }
   ],
   "source": [
    "r2_rf3_train=r2_score(y_train, y_pred_train_rf3)\n",
    "r2_rf3_test=r2_score(y_test, y_pred_test_rf3)\n",
    "print('The R-square Value of train dataset of Random Forest 3rd Model is :',r2_rf3_train)\n",
    "print('The R-square Value of test dataset of Random Forest 3rd Model is :',r2_rf3_test)"
   ]
  },
  {
   "cell_type": "markdown",
   "metadata": {},
   "source": [
    "#### Adjusted R-squared"
   ]
  },
  {
   "cell_type": "code",
   "execution_count": 300,
   "metadata": {},
   "outputs": [
    {
     "name": "stdout",
     "output_type": "stream",
     "text": [
      "The Adjusted R-square of Random Forest Train Dataset for the Randomized Search model is : 0.6063254133791853\n",
      "The Adjusted R-square of Random Forest Test Dataset for the Randomized Search model is : -0.05059456427093001\n"
     ]
    }
   ],
   "source": [
    "adj_r2_train=Adjusted_r2(r2_rf3_train,len(X_train))\n",
    "print('The Adjusted R-square of Random Forest Train Dataset for the Randomized Search model is :', adj_r2_train)\n",
    "adj_r2_test=Adjusted_r2(r2_rf3_test,len(X_test))\n",
    "print('The Adjusted R-square of Random Forest Test Dataset for the Randomized Search model is :', adj_r2_test)"
   ]
  },
  {
   "cell_type": "markdown",
   "metadata": {},
   "source": [
    "#### Summary of Random Forest \n"
   ]
  },
  {
   "cell_type": "markdown",
   "metadata": {},
   "source": [
    "\n",
    "|Model Name||RMSE Score Train||RMSE Score test||R-square Value train|| R-square value test||Adjusted R-squared Train||Adjusted R-squared test|\n",
    "|---------||------------||-------------||----------||-------------||-------||------|\n",
    "|Random Forest Model-1||  4.4832  ||12.6534||  0.9071     ||0.2380||0.8860||-0.1630|\n",
    "|Random Forest Mode2-2|| 4.9765    ||12.8421|| 0.8833      ||0.2151||0.8567||-0.1980|\n",
    "|RandomizedSearchCV Model||  0.2490 ||12.0262||   0.6792    ||0.3117||0.6063||-0.0506|"
   ]
  },
  {
   "cell_type": "markdown",
   "metadata": {},
   "source": [
    "## Conclusion"
   ]
  },
  {
   "cell_type": "markdown",
   "metadata": {},
   "source": [
    "To sum up, we have developed a total of 7 models under Linear Regression, Decision Tree and Random Forest. We trained these models with our train dataset and tested each models with our test dataset. \n",
    "\n",
    "The RMSE and R2 Score for each models for train and test datasets are as under;\n",
    "\n",
    "|Sl. No.|| Model Name || RMSE Score Test || R-square Value test || Adjusted R-squared test|\n",
    "|----||---------||------------||-------------||----------|\n",
    "|1|| Linear Regression Model|| 13.1750||0.1739||-0.2609|\n",
    "|2|| Decision Tree Model-1|| 12.7646||0.2246||-0.1835|\n",
    "|3|| Decision Tree Model-2|| 12.6437||0.2392||-0.1613|\n",
    "|4|| GridSearchCV Model|| 14.0975||0.5417||-0.4436|\n",
    "|5|| Random Forest Model-1|| 12.6534||0.2380||-0.1630|\n",
    "|6|| Random Forest Model-2||12.8421||0.2151||-0.1980|\n",
    "|7|| Randomized Search Model||12.0262||0.3117||-0.0506|"
   ]
  },
  {
   "cell_type": "markdown",
   "metadata": {},
   "source": [
    "**Therefore based on R2 score and Adjusted R-squared score, GridSearchCV- model  and Randomized Search Model are the best models for this dataset**"
   ]
  }
 ],
 "metadata": {
  "kernelspec": {
   "display_name": "Python 3",
   "language": "python",
   "name": "python3"
  },
  "language_info": {
   "codemirror_mode": {
    "name": "ipython",
    "version": 3
   },
   "file_extension": ".py",
   "mimetype": "text/x-python",
   "name": "python",
   "nbconvert_exporter": "python",
   "pygments_lexer": "ipython3",
   "version": "3.8.3"
  },
  "toc": {
   "base_numbering": 1,
   "nav_menu": {},
   "number_sections": true,
   "sideBar": true,
   "skip_h1_title": false,
   "title_cell": "Table of Contents",
   "title_sidebar": "Contents",
   "toc_cell": true,
   "toc_position": {},
   "toc_section_display": true,
   "toc_window_display": false
  }
 },
 "nbformat": 4,
 "nbformat_minor": 4
}
